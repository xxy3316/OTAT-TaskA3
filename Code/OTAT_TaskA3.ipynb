{
 "cells": [
  {
   "cell_type": "code",
   "execution_count": 16,
   "id": "55bf81b6",
   "metadata": {},
   "outputs": [],
   "source": [
    "import pandas as pd\n",
    "import numpy as np\n",
    "import matplotlib.pyplot as plt\n",
    "import seaborn as sns\n",
    "import pandas as pd\n",
    "import plotly.express as px\n",
    "import numpy as np\n",
    "from scipy import stats\n",
    "import pandas as pd\n",
    "import matplotlib.pyplot as plt\n",
    "import seaborn as sns"
   ]
  },
  {
   "cell_type": "code",
   "execution_count": 2,
   "id": "a03fb8c5",
   "metadata": {},
   "outputs": [],
   "source": [
    "data = pd.read_csv('nba_2020_per_game.csv')"
   ]
  },
  {
   "cell_type": "code",
   "execution_count": 3,
   "id": "ac260177",
   "metadata": {},
   "outputs": [
    {
     "name": "stdout",
     "output_type": "stream",
     "text": [
      "<class 'pandas.core.frame.DataFrame'>\n",
      "RangeIndex: 651 entries, 0 to 650\n",
      "Data columns (total 29 columns):\n",
      " #   Column  Non-Null Count  Dtype  \n",
      "---  ------  --------------  -----  \n",
      " 0   Player  651 non-null    object \n",
      " 1   Pos     651 non-null    object \n",
      " 2   Age     651 non-null    int64  \n",
      " 3   Tm      651 non-null    object \n",
      " 4   G       651 non-null    int64  \n",
      " 5   GS      651 non-null    int64  \n",
      " 6   MP      651 non-null    float64\n",
      " 7   FG      651 non-null    float64\n",
      " 8   FGA     651 non-null    float64\n",
      " 9   FG%     649 non-null    float64\n",
      " 10  3P      651 non-null    float64\n",
      " 11  3PA     651 non-null    float64\n",
      " 12  3P%     616 non-null    float64\n",
      " 13  2P      651 non-null    float64\n",
      " 14  2PA     651 non-null    float64\n",
      " 15  2P%     645 non-null    float64\n",
      " 16  eFG%    649 non-null    float64\n",
      " 17  FT      651 non-null    float64\n",
      " 18  FTA     651 non-null    float64\n",
      " 19  FT%     618 non-null    float64\n",
      " 20  ORB     651 non-null    float64\n",
      " 21  DRB     651 non-null    float64\n",
      " 22  TRB     651 non-null    float64\n",
      " 23  AST     651 non-null    float64\n",
      " 24  STL     651 non-null    float64\n",
      " 25  BLK     651 non-null    float64\n",
      " 26  TOV     651 non-null    float64\n",
      " 27  PF      651 non-null    float64\n",
      " 28  PTS     651 non-null    float64\n",
      "dtypes: float64(23), int64(3), object(3)\n",
      "memory usage: 147.6+ KB\n"
     ]
    }
   ],
   "source": [
    "data.info()"
   ]
  },
  {
   "cell_type": "code",
   "execution_count": 4,
   "id": "92108c9a",
   "metadata": {},
   "outputs": [],
   "source": [
    "data = data.drop('G', axis=1)\n",
    "data = data.drop('FGA', axis=1)\n",
    "data = data.drop('ORB', axis=1)\n",
    "data = data.drop('DRB', axis=1)\n",
    "data = data.drop('3PA', axis=1)\n",
    "data = data.drop('2PA', axis=1)\n",
    "data = data.drop('2P%', axis=1)\n",
    "data = data.drop('2P', axis=1)\n",
    "data = data.drop('FTA', axis=1)\n",
    "data = data.drop('eFG%', axis=1)\n",
    "data = data.drop('PF', axis=1)\n"
   ]
  },
  {
   "cell_type": "code",
   "execution_count": 5,
   "id": "1367c53f",
   "metadata": {
    "scrolled": true
   },
   "outputs": [
    {
     "data": {
      "text/plain": [
       "Player     0\n",
       "Pos        0\n",
       "Age        0\n",
       "Tm         0\n",
       "GS         0\n",
       "MP         0\n",
       "FG         0\n",
       "FG%        2\n",
       "3P         0\n",
       "3P%       35\n",
       "FT         0\n",
       "FT%       33\n",
       "TRB        0\n",
       "AST        0\n",
       "STL        0\n",
       "BLK        0\n",
       "TOV        0\n",
       "PTS        0\n",
       "dtype: int64"
      ]
     },
     "execution_count": 5,
     "metadata": {},
     "output_type": "execute_result"
    }
   ],
   "source": [
    "data.isna().sum()"
   ]
  },
  {
   "cell_type": "code",
   "execution_count": 6,
   "id": "003b178d",
   "metadata": {},
   "outputs": [],
   "source": [
    "data = data.fillna(0.000)"
   ]
  },
  {
   "cell_type": "code",
   "execution_count": 7,
   "id": "7301978a",
   "metadata": {},
   "outputs": [
    {
     "data": {
      "text/plain": [
       "Player    0\n",
       "Pos       0\n",
       "Age       0\n",
       "Tm        0\n",
       "GS        0\n",
       "MP        0\n",
       "FG        0\n",
       "FG%       0\n",
       "3P        0\n",
       "3P%       0\n",
       "FT        0\n",
       "FT%       0\n",
       "TRB       0\n",
       "AST       0\n",
       "STL       0\n",
       "BLK       0\n",
       "TOV       0\n",
       "PTS       0\n",
       "dtype: int64"
      ]
     },
     "execution_count": 7,
     "metadata": {},
     "output_type": "execute_result"
    }
   ],
   "source": [
    "data.isna().sum()"
   ]
  },
  {
   "cell_type": "code",
   "execution_count": 8,
   "id": "e5cab3c0",
   "metadata": {},
   "outputs": [],
   "source": [
    "data.to_csv(\"data_cleaned.csv\")"
   ]
  },
  {
   "cell_type": "code",
   "execution_count": 9,
   "id": "daf70905",
   "metadata": {},
   "outputs": [
    {
     "data": {
      "text/html": [
       "<div>\n",
       "<style scoped>\n",
       "    .dataframe tbody tr th:only-of-type {\n",
       "        vertical-align: middle;\n",
       "    }\n",
       "\n",
       "    .dataframe tbody tr th {\n",
       "        vertical-align: top;\n",
       "    }\n",
       "\n",
       "    .dataframe thead th {\n",
       "        text-align: right;\n",
       "    }\n",
       "</style>\n",
       "<table border=\"1\" class=\"dataframe\">\n",
       "  <thead>\n",
       "    <tr style=\"text-align: right;\">\n",
       "      <th></th>\n",
       "      <th>Unnamed: 0</th>\n",
       "      <th>Age</th>\n",
       "      <th>GS</th>\n",
       "      <th>MP</th>\n",
       "      <th>FG</th>\n",
       "      <th>FG%</th>\n",
       "      <th>3P</th>\n",
       "      <th>3P%</th>\n",
       "      <th>FT</th>\n",
       "      <th>FT%</th>\n",
       "      <th>TRB</th>\n",
       "      <th>AST</th>\n",
       "      <th>STL</th>\n",
       "      <th>BLK</th>\n",
       "      <th>TOV</th>\n",
       "      <th>PTS</th>\n",
       "    </tr>\n",
       "  </thead>\n",
       "  <tbody>\n",
       "    <tr>\n",
       "      <th>count</th>\n",
       "      <td>651.000000</td>\n",
       "      <td>651.000000</td>\n",
       "      <td>651.000000</td>\n",
       "      <td>651.000000</td>\n",
       "      <td>651.000000</td>\n",
       "      <td>651.000000</td>\n",
       "      <td>651.000000</td>\n",
       "      <td>651.000000</td>\n",
       "      <td>651.000000</td>\n",
       "      <td>651.000000</td>\n",
       "      <td>651.000000</td>\n",
       "      <td>651.000000</td>\n",
       "      <td>651.000000</td>\n",
       "      <td>651.000000</td>\n",
       "      <td>651.000000</td>\n",
       "      <td>651.000000</td>\n",
       "    </tr>\n",
       "    <tr>\n",
       "      <th>mean</th>\n",
       "      <td>325.000000</td>\n",
       "      <td>25.763441</td>\n",
       "      <td>17.537634</td>\n",
       "      <td>19.179724</td>\n",
       "      <td>3.097849</td>\n",
       "      <td>0.441530</td>\n",
       "      <td>0.938863</td>\n",
       "      <td>0.296587</td>\n",
       "      <td>1.337788</td>\n",
       "      <td>0.706066</td>\n",
       "      <td>3.563287</td>\n",
       "      <td>1.843932</td>\n",
       "      <td>0.617665</td>\n",
       "      <td>0.398157</td>\n",
       "      <td>1.101075</td>\n",
       "      <td>8.461290</td>\n",
       "    </tr>\n",
       "    <tr>\n",
       "      <th>std</th>\n",
       "      <td>188.071795</td>\n",
       "      <td>4.024840</td>\n",
       "      <td>23.022124</td>\n",
       "      <td>9.060972</td>\n",
       "      <td>2.222285</td>\n",
       "      <td>0.114024</td>\n",
       "      <td>0.849802</td>\n",
       "      <td>0.147897</td>\n",
       "      <td>1.338949</td>\n",
       "      <td>0.219550</td>\n",
       "      <td>2.429509</td>\n",
       "      <td>1.698073</td>\n",
       "      <td>0.406082</td>\n",
       "      <td>0.409010</td>\n",
       "      <td>0.807703</td>\n",
       "      <td>6.197278</td>\n",
       "    </tr>\n",
       "    <tr>\n",
       "      <th>min</th>\n",
       "      <td>0.000000</td>\n",
       "      <td>19.000000</td>\n",
       "      <td>0.000000</td>\n",
       "      <td>1.000000</td>\n",
       "      <td>0.000000</td>\n",
       "      <td>0.000000</td>\n",
       "      <td>0.000000</td>\n",
       "      <td>0.000000</td>\n",
       "      <td>0.000000</td>\n",
       "      <td>0.000000</td>\n",
       "      <td>0.000000</td>\n",
       "      <td>0.000000</td>\n",
       "      <td>0.000000</td>\n",
       "      <td>0.000000</td>\n",
       "      <td>0.000000</td>\n",
       "      <td>0.000000</td>\n",
       "    </tr>\n",
       "    <tr>\n",
       "      <th>25%</th>\n",
       "      <td>162.500000</td>\n",
       "      <td>23.000000</td>\n",
       "      <td>0.000000</td>\n",
       "      <td>12.000000</td>\n",
       "      <td>1.400000</td>\n",
       "      <td>0.398500</td>\n",
       "      <td>0.300000</td>\n",
       "      <td>0.250000</td>\n",
       "      <td>0.500000</td>\n",
       "      <td>0.646500</td>\n",
       "      <td>1.900000</td>\n",
       "      <td>0.700000</td>\n",
       "      <td>0.300000</td>\n",
       "      <td>0.100000</td>\n",
       "      <td>0.600000</td>\n",
       "      <td>3.800000</td>\n",
       "    </tr>\n",
       "    <tr>\n",
       "      <th>50%</th>\n",
       "      <td>325.000000</td>\n",
       "      <td>25.000000</td>\n",
       "      <td>4.000000</td>\n",
       "      <td>18.500000</td>\n",
       "      <td>2.500000</td>\n",
       "      <td>0.439000</td>\n",
       "      <td>0.800000</td>\n",
       "      <td>0.333000</td>\n",
       "      <td>0.900000</td>\n",
       "      <td>0.762000</td>\n",
       "      <td>3.100000</td>\n",
       "      <td>1.300000</td>\n",
       "      <td>0.600000</td>\n",
       "      <td>0.300000</td>\n",
       "      <td>0.900000</td>\n",
       "      <td>6.800000</td>\n",
       "    </tr>\n",
       "    <tr>\n",
       "      <th>75%</th>\n",
       "      <td>487.500000</td>\n",
       "      <td>28.000000</td>\n",
       "      <td>29.500000</td>\n",
       "      <td>26.700000</td>\n",
       "      <td>4.300000</td>\n",
       "      <td>0.486000</td>\n",
       "      <td>1.400000</td>\n",
       "      <td>0.376000</td>\n",
       "      <td>1.700000</td>\n",
       "      <td>0.833000</td>\n",
       "      <td>4.650000</td>\n",
       "      <td>2.200000</td>\n",
       "      <td>0.900000</td>\n",
       "      <td>0.500000</td>\n",
       "      <td>1.400000</td>\n",
       "      <td>11.650000</td>\n",
       "    </tr>\n",
       "    <tr>\n",
       "      <th>max</th>\n",
       "      <td>650.000000</td>\n",
       "      <td>43.000000</td>\n",
       "      <td>73.000000</td>\n",
       "      <td>37.500000</td>\n",
       "      <td>10.900000</td>\n",
       "      <td>1.000000</td>\n",
       "      <td>4.400000</td>\n",
       "      <td>1.000000</td>\n",
       "      <td>10.200000</td>\n",
       "      <td>1.000000</td>\n",
       "      <td>15.800000</td>\n",
       "      <td>10.200000</td>\n",
       "      <td>2.100000</td>\n",
       "      <td>2.900000</td>\n",
       "      <td>4.800000</td>\n",
       "      <td>34.300000</td>\n",
       "    </tr>\n",
       "  </tbody>\n",
       "</table>\n",
       "</div>"
      ],
      "text/plain": [
       "       Unnamed: 0         Age          GS          MP          FG         FG%  \\\n",
       "count  651.000000  651.000000  651.000000  651.000000  651.000000  651.000000   \n",
       "mean   325.000000   25.763441   17.537634   19.179724    3.097849    0.441530   \n",
       "std    188.071795    4.024840   23.022124    9.060972    2.222285    0.114024   \n",
       "min      0.000000   19.000000    0.000000    1.000000    0.000000    0.000000   \n",
       "25%    162.500000   23.000000    0.000000   12.000000    1.400000    0.398500   \n",
       "50%    325.000000   25.000000    4.000000   18.500000    2.500000    0.439000   \n",
       "75%    487.500000   28.000000   29.500000   26.700000    4.300000    0.486000   \n",
       "max    650.000000   43.000000   73.000000   37.500000   10.900000    1.000000   \n",
       "\n",
       "               3P         3P%          FT         FT%         TRB         AST  \\\n",
       "count  651.000000  651.000000  651.000000  651.000000  651.000000  651.000000   \n",
       "mean     0.938863    0.296587    1.337788    0.706066    3.563287    1.843932   \n",
       "std      0.849802    0.147897    1.338949    0.219550    2.429509    1.698073   \n",
       "min      0.000000    0.000000    0.000000    0.000000    0.000000    0.000000   \n",
       "25%      0.300000    0.250000    0.500000    0.646500    1.900000    0.700000   \n",
       "50%      0.800000    0.333000    0.900000    0.762000    3.100000    1.300000   \n",
       "75%      1.400000    0.376000    1.700000    0.833000    4.650000    2.200000   \n",
       "max      4.400000    1.000000   10.200000    1.000000   15.800000   10.200000   \n",
       "\n",
       "              STL         BLK         TOV         PTS  \n",
       "count  651.000000  651.000000  651.000000  651.000000  \n",
       "mean     0.617665    0.398157    1.101075    8.461290  \n",
       "std      0.406082    0.409010    0.807703    6.197278  \n",
       "min      0.000000    0.000000    0.000000    0.000000  \n",
       "25%      0.300000    0.100000    0.600000    3.800000  \n",
       "50%      0.600000    0.300000    0.900000    6.800000  \n",
       "75%      0.900000    0.500000    1.400000   11.650000  \n",
       "max      2.100000    2.900000    4.800000   34.300000  "
      ]
     },
     "execution_count": 9,
     "metadata": {},
     "output_type": "execute_result"
    }
   ],
   "source": [
    "data = pd.read_csv(\"data_cleaned.csv\")\n",
    "data.describe()"
   ]
  },
  {
   "cell_type": "code",
   "execution_count": 10,
   "id": "8e6c10d0",
   "metadata": {},
   "outputs": [
    {
     "name": "stdout",
     "output_type": "stream",
     "text": [
      "529\n",
      "9\n",
      "31\n"
     ]
    }
   ],
   "source": [
    "\n",
    "print(len(data['Player'].unique()))\n",
    "print(len(data['Pos'].unique()))\n",
    "print(len(data['Tm'].unique()))"
   ]
  },
  {
   "cell_type": "code",
   "execution_count": 20,
   "id": "7b598546",
   "metadata": {},
   "outputs": [
    {
     "data": {
      "image/png": "[encoded data removed]",
      "text/plain": [
       "<Figure size 1200x600 with 1 Axes>"
      ]
     },
     "metadata": {},
     "output_type": "display_data"
    }
   ],
   "source": [
    "# Calculate league averages for 3P% and FG%\n",
    "league_avg_3P = data['3P%'].mean()\n",
    "league_avg_FG = data['FG%'].mean()\n",
    "\n",
    "# Sort the data by the 'PTS' column in descending order\n",
    "sorted_data = data.sort_values(by='PTS', ascending=False)\n",
    "\n",
    "# Get the top 10 scoring players\n",
    "top_10_scorers = sorted_data.head(10)\n",
    "\n",
    "# Set the style for the plot\n",
    "sns.set(style=\"whitegrid\")\n",
    "\n",
    "# Create two line charts with 'Player' on the x-axis, and '3P%' and 'FG%' on the y-axis\n",
    "fig, ax = plt.subplots(figsize=(12, 6))\n",
    "ax.plot(top_10_scorers['Player'], top_10_scorers['3P%'], label='3P%', marker='o')\n",
    "ax.plot(top_10_scorers['Player'], top_10_scorers['FG%'], label='FG%', marker='o')\n",
    "\n",
    "# Add horizontal lines representing league averages\n",
    "ax.axhline(league_avg_3P, color='blue', linestyle='--', label='League Avg 3P%')\n",
    "ax.axhline(league_avg_FG, color='orange', linestyle='--', label='League Avg FG%')\n",
    "\n",
    "# Set the labels and title for the plot\n",
    "ax.set_xlabel('Player')\n",
    "ax.set_ylabel('Percentage')\n",
    "ax.set_title('Top 10 Scoring Players - 3P% and FG% with League Averages')\n",
    "\n",
    "# Add a legend to the plot\n",
    "ax.legend()\n",
    "\n",
    "# Display the plot\n",
    "plt.xticks(rotation=45)\n",
    "plt.show()\n"
   ]
  },
  {
   "cell_type": "code",
   "execution_count": 19,
   "id": "3e87fa95",
   "metadata": {},
   "outputs": [
    {
     "data": {
      "application/vnd.plotly.v1+json": {
       "config": {
        "plotlyServerURL": "https://plot.ly"
       },
       "data": [
        {
         "customdata": [
          [
           "BOS",
           29
          ],
          [
           "GSW",
           31
          ],
          [
           "SAC",
           22
          ],
          [
           "GSW",
           23
          ],
          [
           "LAL",
           35
          ],
          [
           "HOU",
           31
          ],
          [
           "BRK",
           27
          ],
          [
           "DAL",
           20
          ],
          [
           "ATL",
           21
          ],
          [
           "POR",
           29
          ]
         ],
         "hovertemplate": "<b>%{hovertext}</b><br><br>Position=PG<br>Points=%{x}<br>Assists=%{y}<br>Tm=%{customdata[0]}<br>Age=%{customdata[1]}<extra></extra>",
         "hovertext": [
          "Kemba Walker",
          "Stephen Curry",
          "De'Aaron Fox",
          "D'Angelo Russell",
          "LeBron James",
          "Russell Westbrook",
          "Kyrie Irving",
          "Luka Dončić",
          "Trae Young",
          "Damian Lillard"
         ],
         "legendgroup": "PG",
         "marker": {
          "color": "red",
          "line": {
           "color": "DarkSlateGrey",
           "width": 1
          },
          "symbol": "circle"
         },
         "mode": "markers",
         "name": "PG",
         "orientation": "v",
         "showlegend": true,
         "type": "scatter",
         "x": [
          20.4,
          20.8,
          21.1,
          23.6,
          25.3,
          27.2,
          27.4,
          28.8,
          29.6,
          30
         ],
         "xaxis": "x",
         "y": [
          4.8,
          6.6,
          6.8,
          6.2,
          10.2,
          7,
          6.4,
          8.8,
          9.3,
          8
         ],
         "yaxis": "y"
        },
        {
         "customdata": [
          [
           "SAC",
           27
          ],
          [
           "BRK",
           26
          ],
          [
           "MIN",
           23
          ],
          [
           "CLE",
           21
          ],
          [
           "POR",
           28
          ],
          [
           "UTA",
           23
          ],
          [
           "CHI",
           24
          ],
          [
           "PHO",
           23
          ],
          [
           "WAS",
           26
          ],
          [
           "HOU",
           30
          ]
         ],
         "hovertemplate": "<b>%{hovertext}</b><br><br>Position=SG<br>Points=%{x}<br>Assists=%{y}<br>Tm=%{customdata[0]}<br>Age=%{customdata[1]}<extra></extra>",
         "hovertext": [
          "Buddy Hield",
          "Spencer Dinwiddie",
          "Malik Beasley",
          "Collin Sexton",
          "CJ McCollum",
          "Donovan Mitchell",
          "Zach LaVine",
          "Devin Booker",
          "Bradley Beal",
          "James Harden"
         ],
         "legendgroup": "SG",
         "marker": {
          "color": "blue",
          "line": {
           "color": "DarkSlateGrey",
           "width": 1
          },
          "symbol": "circle"
         },
         "mode": "markers",
         "name": "SG",
         "orientation": "v",
         "showlegend": true,
         "type": "scatter",
         "x": [
          19.2,
          20.6,
          20.7,
          20.8,
          22.2,
          24,
          25.5,
          26.6,
          30.5,
          34.3
         ],
         "xaxis": "x",
         "y": [
          3,
          6.8,
          1.9,
          3,
          4.4,
          4.3,
          4.2,
          6.5,
          6.1,
          7.5
         ],
         "yaxis": "y"
        },
        {
         "customdata": [
          [
           "NYK",
           30
          ],
          [
           "IND",
           26
          ],
          [
           "MIA",
           30
          ],
          [
           "UTA",
           30
          ],
          [
           "BOS",
           23
          ],
          [
           "MIL",
           28
          ],
          [
           "LAC",
           29
          ],
          [
           "SAS",
           30
          ],
          [
           "MIN",
           24
          ],
          [
           "LAC",
           28
          ]
         ],
         "hovertemplate": "<b>%{hovertext}</b><br><br>Position=SF<br>Points=%{x}<br>Assists=%{y}<br>Tm=%{customdata[0]}<br>Age=%{customdata[1]}<extra></extra>",
         "hovertext": [
          "Marcus Morris",
          "T.J. Warren",
          "Jimmy Butler",
          "Bojan Bogdanović",
          "Jaylen Brown",
          "Khris Middleton",
          "Paul George",
          "DeMar DeRozan",
          "Andrew Wiggins",
          "Kawhi Leonard"
         ],
         "legendgroup": "SF",
         "marker": {
          "color": "green",
          "line": {
           "color": "DarkSlateGrey",
           "width": 1
          },
          "symbol": "circle"
         },
         "mode": "markers",
         "name": "SF",
         "orientation": "v",
         "showlegend": true,
         "type": "scatter",
         "x": [
          19.6,
          19.8,
          19.9,
          20.2,
          20.3,
          20.9,
          21.5,
          22.1,
          22.4,
          27.1
         ],
         "xaxis": "x",
         "y": [
          1.4,
          1.5,
          6,
          2.1,
          2.1,
          4.3,
          3.9,
          5.6,
          3.7,
          4.9
         ],
         "yaxis": "y"
        },
        {
         "customdata": [
          [
           "NYK",
           25
          ],
          [
           "PHI",
           27
          ],
          [
           "DAL",
           24
          ],
          [
           "ATL",
           22
          ],
          [
           "NOP",
           19
          ],
          [
           "TOR",
           25
          ],
          [
           "BOS",
           21
          ],
          [
           "NOP",
           22
          ],
          [
           "LAL",
           26
          ],
          [
           "MIL",
           25
          ]
         ],
         "hovertemplate": "<b>%{hovertext}</b><br><br>Position=PF<br>Points=%{x}<br>Assists=%{y}<br>Tm=%{customdata[0]}<br>Age=%{customdata[1]}<extra></extra>",
         "hovertext": [
          "Julius Randle",
          "Tobias Harris",
          "Kristaps Porziņģis",
          "John Collins",
          "Zion Williamson",
          "Pascal Siakam",
          "Jayson Tatum",
          "Brandon Ingram",
          "Anthony Davis",
          "Giannis Antetokounmpo"
         ],
         "legendgroup": "PF",
         "marker": {
          "color": "orange",
          "line": {
           "color": "DarkSlateGrey",
           "width": 1
          },
          "symbol": "circle"
         },
         "mode": "markers",
         "name": "PF",
         "orientation": "v",
         "showlegend": true,
         "type": "scatter",
         "x": [
          19.5,
          19.6,
          20.4,
          21.6,
          22.5,
          22.9,
          23.4,
          23.8,
          26.1,
          29.5
         ],
         "xaxis": "x",
         "y": [
          3.1,
          3.2,
          1.8,
          1.5,
          2.1,
          3.5,
          3,
          4.2,
          3.2,
          5.6
         ],
         "yaxis": "y"
        },
        {
         "customdata": [
          [
           "MEM",
           20
          ],
          [
           "POR",
           25
          ],
          [
           "DET",
           26
          ],
          [
           "PHO",
           21
          ],
          [
           "LAC",
           26
          ],
          [
           "SAS",
           34
          ],
          [
           "ORL",
           29
          ],
          [
           "DEN",
           24
          ],
          [
           "PHI",
           25
          ],
          [
           "MIN",
           24
          ]
         ],
         "hovertemplate": "<b>%{hovertext}</b><br><br>Position=C<br>Points=%{x}<br>Assists=%{y}<br>Tm=%{customdata[0]}<br>Age=%{customdata[1]}<extra></extra>",
         "hovertext": [
          "Jaren Jackson Jr.",
          "Jusuf Nurkić",
          "Andre Drummond",
          "Deandre Ayton",
          "Montrezl Harrell",
          "LaMarcus Aldridge",
          "Nikola Vučević",
          "Nikola Jokić",
          "Joel Embiid",
          "Karl-Anthony Towns"
         ],
         "legendgroup": "C",
         "marker": {
          "color": "purple",
          "line": {
           "color": "DarkSlateGrey",
           "width": 1
          },
          "symbol": "circle"
         },
         "mode": "markers",
         "name": "C",
         "orientation": "v",
         "showlegend": true,
         "type": "scatter",
         "x": [
          17.4,
          17.6,
          17.8,
          18.2,
          18.6,
          18.9,
          19.6,
          19.9,
          23,
          26.5
         ],
         "xaxis": "x",
         "y": [
          1.4,
          4,
          2.8,
          1.9,
          1.7,
          2.4,
          3.6,
          7,
          3,
          4.4
         ],
         "yaxis": "y"
        }
       ],
       "layout": {
        "legend": {
         "title": {
          "text": "Position"
         },
         "tracegroupgap": 0
        },
        "shapes": [
         {
          "line": {
           "color": "gray",
           "dash": "dot"
          },
          "type": "line",
          "x0": 17.4,
          "x1": 34.3,
          "xref": "x",
          "y0": 2.430675820839756,
          "y1": 8.656191910700109,
          "yref": "y"
         }
        ],
        "template": {
         "data": {
          "bar": [
           {
            "error_x": {
             "color": "#2a3f5f"
            },
            "error_y": {
             "color": "#2a3f5f"
            },
            "marker": {
             "line": {
              "color": "#E5ECF6",
              "width": 0.5
             },
             "pattern": {
              "fillmode": "overlay",
              "size": 10,
              "solidity": 0.2
             }
            },
            "type": "bar"
           }
          ],
          "barpolar": [
           {
            "marker": {
             "line": {
              "color": "#E5ECF6",
              "width": 0.5
             },
             "pattern": {
              "fillmode": "overlay",
              "size": 10,
              "solidity": 0.2
             }
            },
            "type": "barpolar"
           }
          ],
          "carpet": [
           {
            "aaxis": {
             "endlinecolor": "#2a3f5f",
             "gridcolor": "white",
             "linecolor": "white",
             "minorgridcolor": "white",
             "startlinecolor": "#2a3f5f"
            },
            "baxis": {
             "endlinecolor": "#2a3f5f",
             "gridcolor": "white",
             "linecolor": "white",
             "minorgridcolor": "white",
             "startlinecolor": "#2a3f5f"
            },
            "type": "carpet"
           }
          ],
          "choropleth": [
           {
            "colorbar": {
             "outlinewidth": 0,
             "ticks": ""
            },
            "type": "choropleth"
           }
          ],
          "contour": [
           {
            "colorbar": {
             "outlinewidth": 0,
             "ticks": ""
            },
            "colorscale": [
             [
              0,
              "#0d0887"
             ],
             [
              0.1111111111111111,
              "#46039f"
             ],
             [
              0.2222222222222222,
              "#7201a8"
             ],
             [
              0.3333333333333333,
              "#9c179e"
             ],
             [
              0.4444444444444444,
              "#bd3786"
             ],
             [
              0.5555555555555556,
              "#d8576b"
             ],
             [
              0.6666666666666666,
              "#ed7953"
             ],
             [
              0.7777777777777778,
              "#fb9f3a"
             ],
             [
              0.8888888888888888,
              "#fdca26"
             ],
             [
              1,
              "#f0f921"
             ]
            ],
            "type": "contour"
           }
          ],
          "contourcarpet": [
           {
            "colorbar": {
             "outlinewidth": 0,
             "ticks": ""
            },
            "type": "contourcarpet"
           }
          ],
          "heatmap": [
           {
            "colorbar": {
             "outlinewidth": 0,
             "ticks": ""
            },
            "colorscale": [
             [
              0,
              "#0d0887"
             ],
             [
              0.1111111111111111,
              "#46039f"
             ],
             [
              0.2222222222222222,
              "#7201a8"
             ],
             [
              0.3333333333333333,
              "#9c179e"
             ],
             [
              0.4444444444444444,
              "#bd3786"
             ],
             [
              0.5555555555555556,
              "#d8576b"
             ],
             [
              0.6666666666666666,
              "#ed7953"
             ],
             [
              0.7777777777777778,
              "#fb9f3a"
             ],
             [
              0.8888888888888888,
              "#fdca26"
             ],
             [
              1,
              "#f0f921"
             ]
            ],
            "type": "heatmap"
           }
          ],
          "heatmapgl": [
           {
            "colorbar": {
             "outlinewidth": 0,
             "ticks": ""
            },
            "colorscale": [
             [
              0,
              "#0d0887"
             ],
             [
              0.1111111111111111,
              "#46039f"
             ],
             [
              0.2222222222222222,
              "#7201a8"
             ],
             [
              0.3333333333333333,
              "#9c179e"
             ],
             [
              0.4444444444444444,
              "#bd3786"
             ],
             [
              0.5555555555555556,
              "#d8576b"
             ],
             [
              0.6666666666666666,
              "#ed7953"
             ],
             [
              0.7777777777777778,
              "#fb9f3a"
             ],
             [
              0.8888888888888888,
              "#fdca26"
             ],
             [
              1,
              "#f0f921"
             ]
            ],
            "type": "heatmapgl"
           }
          ],
          "histogram": [
           {
            "marker": {
             "pattern": {
              "fillmode": "overlay",
              "size": 10,
              "solidity": 0.2
             }
            },
            "type": "histogram"
           }
          ],
          "histogram2d": [
           {
            "colorbar": {
             "outlinewidth": 0,
             "ticks": ""
            },
            "colorscale": [
             [
              0,
              "#0d0887"
             ],
             [
              0.1111111111111111,
              "#46039f"
             ],
             [
              0.2222222222222222,
              "#7201a8"
             ],
             [
              0.3333333333333333,
              "#9c179e"
             ],
             [
              0.4444444444444444,
              "#bd3786"
             ],
             [
              0.5555555555555556,
              "#d8576b"
             ],
             [
              0.6666666666666666,
              "#ed7953"
             ],
             [
              0.7777777777777778,
              "#fb9f3a"
             ],
             [
              0.8888888888888888,
              "#fdca26"
             ],
             [
              1,
              "#f0f921"
             ]
            ],
            "type": "histogram2d"
           }
          ],
          "histogram2dcontour": [
           {
            "colorbar": {
             "outlinewidth": 0,
             "ticks": ""
            },
            "colorscale": [
             [
              0,
              "#0d0887"
             ],
             [
              0.1111111111111111,
              "#46039f"
             ],
             [
              0.2222222222222222,
              "#7201a8"
             ],
             [
              0.3333333333333333,
              "#9c179e"
             ],
             [
              0.4444444444444444,
              "#bd3786"
             ],
             [
              0.5555555555555556,
              "#d8576b"
             ],
             [
              0.6666666666666666,
              "#ed7953"
             ],
             [
              0.7777777777777778,
              "#fb9f3a"
             ],
             [
              0.8888888888888888,
              "#fdca26"
             ],
             [
              1,
              "#f0f921"
             ]
            ],
            "type": "histogram2dcontour"
           }
          ],
          "mesh3d": [
           {
            "colorbar": {
             "outlinewidth": 0,
             "ticks": ""
            },
            "type": "mesh3d"
           }
          ],
          "parcoords": [
           {
            "line": {
             "colorbar": {
              "outlinewidth": 0,
              "ticks": ""
             }
            },
            "type": "parcoords"
           }
          ],
          "pie": [
           {
            "automargin": true,
            "type": "pie"
           }
          ],
          "scatter": [
           {
            "fillpattern": {
             "fillmode": "overlay",
             "size": 10,
             "solidity": 0.2
            },
            "type": "scatter"
           }
          ],
          "scatter3d": [
           {
            "line": {
             "colorbar": {
              "outlinewidth": 0,
              "ticks": ""
             }
            },
            "marker": {
             "colorbar": {
              "outlinewidth": 0,
              "ticks": ""
             }
            },
            "type": "scatter3d"
           }
          ],
          "scattercarpet": [
           {
            "marker": {
             "colorbar": {
              "outlinewidth": 0,
              "ticks": ""
             }
            },
            "type": "scattercarpet"
           }
          ],
          "scattergeo": [
           {
            "marker": {
             "colorbar": {
              "outlinewidth": 0,
              "ticks": ""
             }
            },
            "type": "scattergeo"
           }
          ],
          "scattergl": [
           {
            "marker": {
             "colorbar": {
              "outlinewidth": 0,
              "ticks": ""
             }
            },
            "type": "scattergl"
           }
          ],
          "scattermapbox": [
           {
            "marker": {
             "colorbar": {
              "outlinewidth": 0,
              "ticks": ""
             }
            },
            "type": "scattermapbox"
           }
          ],
          "scatterpolar": [
           {
            "marker": {
             "colorbar": {
              "outlinewidth": 0,
              "ticks": ""
             }
            },
            "type": "scatterpolar"
           }
          ],
          "scatterpolargl": [
           {
            "marker": {
             "colorbar": {
              "outlinewidth": 0,
              "ticks": ""
             }
            },
            "type": "scatterpolargl"
           }
          ],
          "scatterternary": [
           {
            "marker": {
             "colorbar": {
              "outlinewidth": 0,
              "ticks": ""
             }
            },
            "type": "scatterternary"
           }
          ],
          "surface": [
           {
            "colorbar": {
             "outlinewidth": 0,
             "ticks": ""
            },
            "colorscale": [
             [
              0,
              "#0d0887"
             ],
             [
              0.1111111111111111,
              "#46039f"
             ],
             [
              0.2222222222222222,
              "#7201a8"
             ],
             [
              0.3333333333333333,
              "#9c179e"
             ],
             [
              0.4444444444444444,
              "#bd3786"
             ],
             [
              0.5555555555555556,
              "#d8576b"
             ],
             [
              0.6666666666666666,
              "#ed7953"
             ],
             [
              0.7777777777777778,
              "#fb9f3a"
             ],
             [
              0.8888888888888888,
              "#fdca26"
             ],
             [
              1,
              "#f0f921"
             ]
            ],
            "type": "surface"
           }
          ],
          "table": [
           {
            "cells": {
             "fill": {
              "color": "#EBF0F8"
             },
             "line": {
              "color": "white"
             }
            },
            "header": {
             "fill": {
              "color": "#C8D4E3"
             },
             "line": {
              "color": "white"
             }
            },
            "type": "table"
           }
          ]
         },
         "layout": {
          "annotationdefaults": {
           "arrowcolor": "#2a3f5f",
           "arrowhead": 0,
           "arrowwidth": 1
          },
          "autotypenumbers": "strict",
          "coloraxis": {
           "colorbar": {
            "outlinewidth": 0,
            "ticks": ""
           }
          },
          "colorscale": {
           "diverging": [
            [
             0,
             "#8e0152"
            ],
            [
             0.1,
             "#c51b7d"
            ],
            [
             0.2,
             "#de77ae"
            ],
            [
             0.3,
             "#f1b6da"
            ],
            [
             0.4,
             "#fde0ef"
            ],
            [
             0.5,
             "#f7f7f7"
            ],
            [
             0.6,
             "#e6f5d0"
            ],
            [
             0.7,
             "#b8e186"
            ],
            [
             0.8,
             "#7fbc41"
            ],
            [
             0.9,
             "#4d9221"
            ],
            [
             1,
             "#276419"
            ]
           ],
           "sequential": [
            [
             0,
             "#0d0887"
            ],
            [
             0.1111111111111111,
             "#46039f"
            ],
            [
             0.2222222222222222,
             "#7201a8"
            ],
            [
             0.3333333333333333,
             "#9c179e"
            ],
            [
             0.4444444444444444,
             "#bd3786"
            ],
            [
             0.5555555555555556,
             "#d8576b"
            ],
            [
             0.6666666666666666,
             "#ed7953"
            ],
            [
             0.7777777777777778,
             "#fb9f3a"
            ],
            [
             0.8888888888888888,
             "#fdca26"
            ],
            [
             1,
             "#f0f921"
            ]
           ],
           "sequentialminus": [
            [
             0,
             "#0d0887"
            ],
            [
             0.1111111111111111,
             "#46039f"
            ],
            [
             0.2222222222222222,
             "#7201a8"
            ],
            [
             0.3333333333333333,
             "#9c179e"
            ],
            [
             0.4444444444444444,
             "#bd3786"
            ],
            [
             0.5555555555555556,
             "#d8576b"
            ],
            [
             0.6666666666666666,
             "#ed7953"
            ],
            [
             0.7777777777777778,
             "#fb9f3a"
            ],
            [
             0.8888888888888888,
             "#fdca26"
            ],
            [
             1,
             "#f0f921"
            ]
           ]
          },
          "colorway": [
           "#636efa",
           "#EF553B",
           "#00cc96",
           "#ab63fa",
           "#FFA15A",
           "#19d3f3",
           "#FF6692",
           "#B6E880",
           "#FF97FF",
           "#FECB52"
          ],
          "font": {
           "color": "#2a3f5f"
          },
          "geo": {
           "bgcolor": "white",
           "lakecolor": "white",
           "landcolor": "#E5ECF6",
           "showlakes": true,
           "showland": true,
           "subunitcolor": "white"
          },
          "hoverlabel": {
           "align": "left"
          },
          "hovermode": "closest",
          "mapbox": {
           "style": "light"
          },
          "paper_bgcolor": "white",
          "plot_bgcolor": "#E5ECF6",
          "polar": {
           "angularaxis": {
            "gridcolor": "white",
            "linecolor": "white",
            "ticks": ""
           },
           "bgcolor": "#E5ECF6",
           "radialaxis": {
            "gridcolor": "white",
            "linecolor": "white",
            "ticks": ""
           }
          },
          "scene": {
           "xaxis": {
            "backgroundcolor": "#E5ECF6",
            "gridcolor": "white",
            "gridwidth": 2,
            "linecolor": "white",
            "showbackground": true,
            "ticks": "",
            "zerolinecolor": "white"
           },
           "yaxis": {
            "backgroundcolor": "#E5ECF6",
            "gridcolor": "white",
            "gridwidth": 2,
            "linecolor": "white",
            "showbackground": true,
            "ticks": "",
            "zerolinecolor": "white"
           },
           "zaxis": {
            "backgroundcolor": "#E5ECF6",
            "gridcolor": "white",
            "gridwidth": 2,
            "linecolor": "white",
            "showbackground": true,
            "ticks": "",
            "zerolinecolor": "white"
           }
          },
          "shapedefaults": {
           "line": {
            "color": "#2a3f5f"
           }
          },
          "ternary": {
           "aaxis": {
            "gridcolor": "white",
            "linecolor": "white",
            "ticks": ""
           },
           "baxis": {
            "gridcolor": "white",
            "linecolor": "white",
            "ticks": ""
           },
           "bgcolor": "#E5ECF6",
           "caxis": {
            "gridcolor": "white",
            "linecolor": "white",
            "ticks": ""
           }
          },
          "title": {
           "x": 0.05
          },
          "xaxis": {
           "automargin": true,
           "gridcolor": "white",
           "linecolor": "white",
           "ticks": "",
           "title": {
            "standoff": 15
           },
           "zerolinecolor": "white",
           "zerolinewidth": 2
          },
          "yaxis": {
           "automargin": true,
           "gridcolor": "white",
           "linecolor": "white",
           "ticks": "",
           "title": {
            "standoff": 15
           },
           "zerolinecolor": "white",
           "zerolinewidth": 2
          }
         }
        },
        "title": {
         "text": "NBA Players - Assists (AST) vs. Points (PTS)"
        },
        "xaxis": {
         "anchor": "y",
         "domain": [
          0,
          1
         ],
         "title": {
          "text": "Points"
         }
        },
        "yaxis": {
         "anchor": "x",
         "domain": [
          0,
          1
         ],
         "title": {
          "text": "Assists"
         }
        }
       }
      },
      "text/html": [
       "<div>                            <div id=\"9aada6bd-4f81-4734-bcf0-27ced8ca3f73\" class=\"plotly-graph-div\" style=\"height:525px; width:100%;\"></div>            <script type=\"text/javascript\">                require([\"plotly\"], function(Plotly) {                    window.PLOTLYENV=window.PLOTLYENV || {};                                    if (document.getElementById(\"9aada6bd-4f81-4734-bcf0-27ced8ca3f73\")) {                    Plotly.newPlot(                        \"9aada6bd-4f81-4734-bcf0-27ced8ca3f73\",                        [{\"customdata\":[[\"BOS\",29],[\"GSW\",31],[\"SAC\",22],[\"GSW\",23],[\"LAL\",35],[\"HOU\",31],[\"BRK\",27],[\"DAL\",20],[\"ATL\",21],[\"POR\",29]],\"hovertemplate\":\"<b>%{hovertext}</b><br><br>Position=PG<br>Points=%{x}<br>Assists=%{y}<br>Tm=%{customdata[0]}<br>Age=%{customdata[1]}<extra></extra>\",\"hovertext\":[\"Kemba Walker\",\"Stephen Curry\",\"De'Aaron Fox\",\"D'Angelo Russell\",\"LeBron James\",\"Russell Westbrook\",\"Kyrie Irving\",\"Luka Don\\u010di\\u0107\",\"Trae Young\",\"Damian Lillard\"],\"legendgroup\":\"PG\",\"marker\":{\"color\":\"red\",\"symbol\":\"circle\",\"line\":{\"color\":\"DarkSlateGrey\",\"width\":1}},\"mode\":\"markers\",\"name\":\"PG\",\"orientation\":\"v\",\"showlegend\":true,\"x\":[20.4,20.8,21.1,23.6,25.3,27.2,27.4,28.8,29.6,30.0],\"xaxis\":\"x\",\"y\":[4.8,6.6,6.8,6.2,10.2,7.0,6.4,8.8,9.3,8.0],\"yaxis\":\"y\",\"type\":\"scatter\"},{\"customdata\":[[\"SAC\",27],[\"BRK\",26],[\"MIN\",23],[\"CLE\",21],[\"POR\",28],[\"UTA\",23],[\"CHI\",24],[\"PHO\",23],[\"WAS\",26],[\"HOU\",30]],\"hovertemplate\":\"<b>%{hovertext}</b><br><br>Position=SG<br>Points=%{x}<br>Assists=%{y}<br>Tm=%{customdata[0]}<br>Age=%{customdata[1]}<extra></extra>\",\"hovertext\":[\"Buddy Hield\",\"Spencer Dinwiddie\",\"Malik Beasley\",\"Collin Sexton\",\"CJ McCollum\",\"Donovan Mitchell\",\"Zach LaVine\",\"Devin Booker\",\"Bradley Beal\",\"James Harden\"],\"legendgroup\":\"SG\",\"marker\":{\"color\":\"blue\",\"symbol\":\"circle\",\"line\":{\"color\":\"DarkSlateGrey\",\"width\":1}},\"mode\":\"markers\",\"name\":\"SG\",\"orientation\":\"v\",\"showlegend\":true,\"x\":[19.2,20.6,20.7,20.8,22.2,24.0,25.5,26.6,30.5,34.3],\"xaxis\":\"x\",\"y\":[3.0,6.8,1.9,3.0,4.4,4.3,4.2,6.5,6.1,7.5],\"yaxis\":\"y\",\"type\":\"scatter\"},{\"customdata\":[[\"NYK\",30],[\"IND\",26],[\"MIA\",30],[\"UTA\",30],[\"BOS\",23],[\"MIL\",28],[\"LAC\",29],[\"SAS\",30],[\"MIN\",24],[\"LAC\",28]],\"hovertemplate\":\"<b>%{hovertext}</b><br><br>Position=SF<br>Points=%{x}<br>Assists=%{y}<br>Tm=%{customdata[0]}<br>Age=%{customdata[1]}<extra></extra>\",\"hovertext\":[\"Marcus Morris\",\"T.J. Warren\",\"Jimmy Butler\",\"Bojan Bogdanovi\\u0107\",\"Jaylen Brown\",\"Khris Middleton\",\"Paul George\",\"DeMar DeRozan\",\"Andrew Wiggins\",\"Kawhi Leonard\"],\"legendgroup\":\"SF\",\"marker\":{\"color\":\"green\",\"symbol\":\"circle\",\"line\":{\"color\":\"DarkSlateGrey\",\"width\":1}},\"mode\":\"markers\",\"name\":\"SF\",\"orientation\":\"v\",\"showlegend\":true,\"x\":[19.6,19.8,19.9,20.2,20.3,20.9,21.5,22.1,22.4,27.1],\"xaxis\":\"x\",\"y\":[1.4,1.5,6.0,2.1,2.1,4.3,3.9,5.6,3.7,4.9],\"yaxis\":\"y\",\"type\":\"scatter\"},{\"customdata\":[[\"NYK\",25],[\"PHI\",27],[\"DAL\",24],[\"ATL\",22],[\"NOP\",19],[\"TOR\",25],[\"BOS\",21],[\"NOP\",22],[\"LAL\",26],[\"MIL\",25]],\"hovertemplate\":\"<b>%{hovertext}</b><br><br>Position=PF<br>Points=%{x}<br>Assists=%{y}<br>Tm=%{customdata[0]}<br>Age=%{customdata[1]}<extra></extra>\",\"hovertext\":[\"Julius Randle\",\"Tobias Harris\",\"Kristaps Porzi\\u0146\\u0123is\",\"John Collins\",\"Zion Williamson\",\"Pascal Siakam\",\"Jayson Tatum\",\"Brandon Ingram\",\"Anthony Davis\",\"Giannis Antetokounmpo\"],\"legendgroup\":\"PF\",\"marker\":{\"color\":\"orange\",\"symbol\":\"circle\",\"line\":{\"color\":\"DarkSlateGrey\",\"width\":1}},\"mode\":\"markers\",\"name\":\"PF\",\"orientation\":\"v\",\"showlegend\":true,\"x\":[19.5,19.6,20.4,21.6,22.5,22.9,23.4,23.8,26.1,29.5],\"xaxis\":\"x\",\"y\":[3.1,3.2,1.8,1.5,2.1,3.5,3.0,4.2,3.2,5.6],\"yaxis\":\"y\",\"type\":\"scatter\"},{\"customdata\":[[\"MEM\",20],[\"POR\",25],[\"DET\",26],[\"PHO\",21],[\"LAC\",26],[\"SAS\",34],[\"ORL\",29],[\"DEN\",24],[\"PHI\",25],[\"MIN\",24]],\"hovertemplate\":\"<b>%{hovertext}</b><br><br>Position=C<br>Points=%{x}<br>Assists=%{y}<br>Tm=%{customdata[0]}<br>Age=%{customdata[1]}<extra></extra>\",\"hovertext\":[\"Jaren Jackson Jr.\",\"Jusuf Nurki\\u0107\",\"Andre Drummond\",\"Deandre Ayton\",\"Montrezl Harrell\",\"LaMarcus Aldridge\",\"Nikola Vu\\u010devi\\u0107\",\"Nikola Joki\\u0107\",\"Joel Embiid\",\"Karl-Anthony Towns\"],\"legendgroup\":\"C\",\"marker\":{\"color\":\"purple\",\"symbol\":\"circle\",\"line\":{\"color\":\"DarkSlateGrey\",\"width\":1}},\"mode\":\"markers\",\"name\":\"C\",\"orientation\":\"v\",\"showlegend\":true,\"x\":[17.4,17.6,17.8,18.2,18.6,18.9,19.6,19.9,23.0,26.5],\"xaxis\":\"x\",\"y\":[1.4,4.0,2.8,1.9,1.7,2.4,3.6,7.0,3.0,4.4],\"yaxis\":\"y\",\"type\":\"scatter\"}],                        {\"template\":{\"data\":{\"histogram2dcontour\":[{\"type\":\"histogram2dcontour\",\"colorbar\":{\"outlinewidth\":0,\"ticks\":\"\"},\"colorscale\":[[0.0,\"#0d0887\"],[0.1111111111111111,\"#46039f\"],[0.2222222222222222,\"#7201a8\"],[0.3333333333333333,\"#9c179e\"],[0.4444444444444444,\"#bd3786\"],[0.5555555555555556,\"#d8576b\"],[0.6666666666666666,\"#ed7953\"],[0.7777777777777778,\"#fb9f3a\"],[0.8888888888888888,\"#fdca26\"],[1.0,\"#f0f921\"]]}],\"choropleth\":[{\"type\":\"choropleth\",\"colorbar\":{\"outlinewidth\":0,\"ticks\":\"\"}}],\"histogram2d\":[{\"type\":\"histogram2d\",\"colorbar\":{\"outlinewidth\":0,\"ticks\":\"\"},\"colorscale\":[[0.0,\"#0d0887\"],[0.1111111111111111,\"#46039f\"],[0.2222222222222222,\"#7201a8\"],[0.3333333333333333,\"#9c179e\"],[0.4444444444444444,\"#bd3786\"],[0.5555555555555556,\"#d8576b\"],[0.6666666666666666,\"#ed7953\"],[0.7777777777777778,\"#fb9f3a\"],[0.8888888888888888,\"#fdca26\"],[1.0,\"#f0f921\"]]}],\"heatmap\":[{\"type\":\"heatmap\",\"colorbar\":{\"outlinewidth\":0,\"ticks\":\"\"},\"colorscale\":[[0.0,\"#0d0887\"],[0.1111111111111111,\"#46039f\"],[0.2222222222222222,\"#7201a8\"],[0.3333333333333333,\"#9c179e\"],[0.4444444444444444,\"#bd3786\"],[0.5555555555555556,\"#d8576b\"],[0.6666666666666666,\"#ed7953\"],[0.7777777777777778,\"#fb9f3a\"],[0.8888888888888888,\"#fdca26\"],[1.0,\"#f0f921\"]]}],\"heatmapgl\":[{\"type\":\"heatmapgl\",\"colorbar\":{\"outlinewidth\":0,\"ticks\":\"\"},\"colorscale\":[[0.0,\"#0d0887\"],[0.1111111111111111,\"#46039f\"],[0.2222222222222222,\"#7201a8\"],[0.3333333333333333,\"#9c179e\"],[0.4444444444444444,\"#bd3786\"],[0.5555555555555556,\"#d8576b\"],[0.6666666666666666,\"#ed7953\"],[0.7777777777777778,\"#fb9f3a\"],[0.8888888888888888,\"#fdca26\"],[1.0,\"#f0f921\"]]}],\"contourcarpet\":[{\"type\":\"contourcarpet\",\"colorbar\":{\"outlinewidth\":0,\"ticks\":\"\"}}],\"contour\":[{\"type\":\"contour\",\"colorbar\":{\"outlinewidth\":0,\"ticks\":\"\"},\"colorscale\":[[0.0,\"#0d0887\"],[0.1111111111111111,\"#46039f\"],[0.2222222222222222,\"#7201a8\"],[0.3333333333333333,\"#9c179e\"],[0.4444444444444444,\"#bd3786\"],[0.5555555555555556,\"#d8576b\"],[0.6666666666666666,\"#ed7953\"],[0.7777777777777778,\"#fb9f3a\"],[0.8888888888888888,\"#fdca26\"],[1.0,\"#f0f921\"]]}],\"surface\":[{\"type\":\"surface\",\"colorbar\":{\"outlinewidth\":0,\"ticks\":\"\"},\"colorscale\":[[0.0,\"#0d0887\"],[0.1111111111111111,\"#46039f\"],[0.2222222222222222,\"#7201a8\"],[0.3333333333333333,\"#9c179e\"],[0.4444444444444444,\"#bd3786\"],[0.5555555555555556,\"#d8576b\"],[0.6666666666666666,\"#ed7953\"],[0.7777777777777778,\"#fb9f3a\"],[0.8888888888888888,\"#fdca26\"],[1.0,\"#f0f921\"]]}],\"mesh3d\":[{\"type\":\"mesh3d\",\"colorbar\":{\"outlinewidth\":0,\"ticks\":\"\"}}],\"scatter\":[{\"fillpattern\":{\"fillmode\":\"overlay\",\"size\":10,\"solidity\":0.2},\"type\":\"scatter\"}],\"parcoords\":[{\"type\":\"parcoords\",\"line\":{\"colorbar\":{\"outlinewidth\":0,\"ticks\":\"\"}}}],\"scatterpolargl\":[{\"type\":\"scatterpolargl\",\"marker\":{\"colorbar\":{\"outlinewidth\":0,\"ticks\":\"\"}}}],\"bar\":[{\"error_x\":{\"color\":\"#2a3f5f\"},\"error_y\":{\"color\":\"#2a3f5f\"},\"marker\":{\"line\":{\"color\":\"#E5ECF6\",\"width\":0.5},\"pattern\":{\"fillmode\":\"overlay\",\"size\":10,\"solidity\":0.2}},\"type\":\"bar\"}],\"scattergeo\":[{\"type\":\"scattergeo\",\"marker\":{\"colorbar\":{\"outlinewidth\":0,\"ticks\":\"\"}}}],\"scatterpolar\":[{\"type\":\"scatterpolar\",\"marker\":{\"colorbar\":{\"outlinewidth\":0,\"ticks\":\"\"}}}],\"histogram\":[{\"marker\":{\"pattern\":{\"fillmode\":\"overlay\",\"size\":10,\"solidity\":0.2}},\"type\":\"histogram\"}],\"scattergl\":[{\"type\":\"scattergl\",\"marker\":{\"colorbar\":{\"outlinewidth\":0,\"ticks\":\"\"}}}],\"scatter3d\":[{\"type\":\"scatter3d\",\"line\":{\"colorbar\":{\"outlinewidth\":0,\"ticks\":\"\"}},\"marker\":{\"colorbar\":{\"outlinewidth\":0,\"ticks\":\"\"}}}],\"scattermapbox\":[{\"type\":\"scattermapbox\",\"marker\":{\"colorbar\":{\"outlinewidth\":0,\"ticks\":\"\"}}}],\"scatterternary\":[{\"type\":\"scatterternary\",\"marker\":{\"colorbar\":{\"outlinewidth\":0,\"ticks\":\"\"}}}],\"scattercarpet\":[{\"type\":\"scattercarpet\",\"marker\":{\"colorbar\":{\"outlinewidth\":0,\"ticks\":\"\"}}}],\"carpet\":[{\"aaxis\":{\"endlinecolor\":\"#2a3f5f\",\"gridcolor\":\"white\",\"linecolor\":\"white\",\"minorgridcolor\":\"white\",\"startlinecolor\":\"#2a3f5f\"},\"baxis\":{\"endlinecolor\":\"#2a3f5f\",\"gridcolor\":\"white\",\"linecolor\":\"white\",\"minorgridcolor\":\"white\",\"startlinecolor\":\"#2a3f5f\"},\"type\":\"carpet\"}],\"table\":[{\"cells\":{\"fill\":{\"color\":\"#EBF0F8\"},\"line\":{\"color\":\"white\"}},\"header\":{\"fill\":{\"color\":\"#C8D4E3\"},\"line\":{\"color\":\"white\"}},\"type\":\"table\"}],\"barpolar\":[{\"marker\":{\"line\":{\"color\":\"#E5ECF6\",\"width\":0.5},\"pattern\":{\"fillmode\":\"overlay\",\"size\":10,\"solidity\":0.2}},\"type\":\"barpolar\"}],\"pie\":[{\"automargin\":true,\"type\":\"pie\"}]},\"layout\":{\"autotypenumbers\":\"strict\",\"colorway\":[\"#636efa\",\"#EF553B\",\"#00cc96\",\"#ab63fa\",\"#FFA15A\",\"#19d3f3\",\"#FF6692\",\"#B6E880\",\"#FF97FF\",\"#FECB52\"],\"font\":{\"color\":\"#2a3f5f\"},\"hovermode\":\"closest\",\"hoverlabel\":{\"align\":\"left\"},\"paper_bgcolor\":\"white\",\"plot_bgcolor\":\"#E5ECF6\",\"polar\":{\"bgcolor\":\"#E5ECF6\",\"angularaxis\":{\"gridcolor\":\"white\",\"linecolor\":\"white\",\"ticks\":\"\"},\"radialaxis\":{\"gridcolor\":\"white\",\"linecolor\":\"white\",\"ticks\":\"\"}},\"ternary\":{\"bgcolor\":\"#E5ECF6\",\"aaxis\":{\"gridcolor\":\"white\",\"linecolor\":\"white\",\"ticks\":\"\"},\"baxis\":{\"gridcolor\":\"white\",\"linecolor\":\"white\",\"ticks\":\"\"},\"caxis\":{\"gridcolor\":\"white\",\"linecolor\":\"white\",\"ticks\":\"\"}},\"coloraxis\":{\"colorbar\":{\"outlinewidth\":0,\"ticks\":\"\"}},\"colorscale\":{\"sequential\":[[0.0,\"#0d0887\"],[0.1111111111111111,\"#46039f\"],[0.2222222222222222,\"#7201a8\"],[0.3333333333333333,\"#9c179e\"],[0.4444444444444444,\"#bd3786\"],[0.5555555555555556,\"#d8576b\"],[0.6666666666666666,\"#ed7953\"],[0.7777777777777778,\"#fb9f3a\"],[0.8888888888888888,\"#fdca26\"],[1.0,\"#f0f921\"]],\"sequentialminus\":[[0.0,\"#0d0887\"],[0.1111111111111111,\"#46039f\"],[0.2222222222222222,\"#7201a8\"],[0.3333333333333333,\"#9c179e\"],[0.4444444444444444,\"#bd3786\"],[0.5555555555555556,\"#d8576b\"],[0.6666666666666666,\"#ed7953\"],[0.7777777777777778,\"#fb9f3a\"],[0.8888888888888888,\"#fdca26\"],[1.0,\"#f0f921\"]],\"diverging\":[[0,\"#8e0152\"],[0.1,\"#c51b7d\"],[0.2,\"#de77ae\"],[0.3,\"#f1b6da\"],[0.4,\"#fde0ef\"],[0.5,\"#f7f7f7\"],[0.6,\"#e6f5d0\"],[0.7,\"#b8e186\"],[0.8,\"#7fbc41\"],[0.9,\"#4d9221\"],[1,\"#276419\"]]},\"xaxis\":{\"gridcolor\":\"white\",\"linecolor\":\"white\",\"ticks\":\"\",\"title\":{\"standoff\":15},\"zerolinecolor\":\"white\",\"automargin\":true,\"zerolinewidth\":2},\"yaxis\":{\"gridcolor\":\"white\",\"linecolor\":\"white\",\"ticks\":\"\",\"title\":{\"standoff\":15},\"zerolinecolor\":\"white\",\"automargin\":true,\"zerolinewidth\":2},\"scene\":{\"xaxis\":{\"backgroundcolor\":\"#E5ECF6\",\"gridcolor\":\"white\",\"linecolor\":\"white\",\"showbackground\":true,\"ticks\":\"\",\"zerolinecolor\":\"white\",\"gridwidth\":2},\"yaxis\":{\"backgroundcolor\":\"#E5ECF6\",\"gridcolor\":\"white\",\"linecolor\":\"white\",\"showbackground\":true,\"ticks\":\"\",\"zerolinecolor\":\"white\",\"gridwidth\":2},\"zaxis\":{\"backgroundcolor\":\"#E5ECF6\",\"gridcolor\":\"white\",\"linecolor\":\"white\",\"showbackground\":true,\"ticks\":\"\",\"zerolinecolor\":\"white\",\"gridwidth\":2}},\"shapedefaults\":{\"line\":{\"color\":\"#2a3f5f\"}},\"annotationdefaults\":{\"arrowcolor\":\"#2a3f5f\",\"arrowhead\":0,\"arrowwidth\":1},\"geo\":{\"bgcolor\":\"white\",\"landcolor\":\"#E5ECF6\",\"subunitcolor\":\"white\",\"showland\":true,\"showlakes\":true,\"lakecolor\":\"white\"},\"title\":{\"x\":0.05},\"mapbox\":{\"style\":\"light\"}}},\"xaxis\":{\"anchor\":\"y\",\"domain\":[0.0,1.0],\"title\":{\"text\":\"Points\"}},\"yaxis\":{\"anchor\":\"x\",\"domain\":[0.0,1.0],\"title\":{\"text\":\"Assists\"}},\"legend\":{\"title\":{\"text\":\"Position\"},\"tracegroupgap\":0},\"title\":{\"text\":\"NBA Players - Assists (AST) vs. Points (PTS)\"},\"shapes\":[{\"line\":{\"color\":\"gray\",\"dash\":\"dot\"},\"type\":\"line\",\"x0\":17.4,\"x1\":34.3,\"xref\":\"x\",\"y0\":2.430675820839756,\"y1\":8.656191910700109,\"yref\":\"y\"}]},                        {\"responsive\": true}                    ).then(function(){\n",
       "                            \n",
       "var gd = document.getElementById('9aada6bd-4f81-4734-bcf0-27ced8ca3f73');\n",
       "var x = new MutationObserver(function (mutations, observer) {{\n",
       "        var display = window.getComputedStyle(gd).display;\n",
       "        if (!display || display === 'none') {{\n",
       "            console.log([gd, 'removed!']);\n",
       "            Plotly.purge(gd);\n",
       "            observer.disconnect();\n",
       "        }}\n",
       "}});\n",
       "\n",
       "// Listen for the removal of the full notebook cells\n",
       "var notebookContainer = gd.closest('#notebook-container');\n",
       "if (notebookContainer) {{\n",
       "    x.observe(notebookContainer, {childList: true});\n",
       "}}\n",
       "\n",
       "// Listen for the clearing of the current output cell\n",
       "var outputEl = gd.closest('.output');\n",
       "if (outputEl) {{\n",
       "    x.observe(outputEl, {childList: true});\n",
       "}}\n",
       "\n",
       "                        })                };                });            </script>        </div>"
      ]
     },
     "metadata": {},
     "output_type": "display_data"
    }
   ],
   "source": [
    "# Filter the data to include only the five basic positions\n",
    "basic_positions = ['PG', 'SG', 'SF', 'PF', 'C']\n",
    "data = data[data['Pos'].isin(basic_positions)]\n",
    "\n",
    "# Create a custom discrete color scale for positions\n",
    "position_colors = {'PG': 'red', 'SG': 'blue', 'SF': 'green', 'PF': 'orange', 'C': 'purple'}\n",
    "\n",
    "# Create an interactive scatter plot using Plotly Express\n",
    "fig = px.scatter(data,\n",
    "                 x='PTS',\n",
    "                 y='AST',\n",
    "                 color='Pos',\n",
    "                 color_discrete_map=position_colors,\n",
    "                 hover_name='Player',\n",
    "                 hover_data=['Tm', 'Age'],\n",
    "                 title='NBA Players - Assists (AST) vs. Points (PTS)',\n",
    "                 labels={'AST': 'Assists', 'PTS': 'Points', 'Pos': 'Position'})\n",
    "\n",
    "# Customize the color scale\n",
    "fig.update_traces(marker=dict(line=dict(width=1, color='DarkSlateGrey')))\n",
    "\n",
    "# Calculate the overall trendline\n",
    "x = data['PTS']\n",
    "y = data['AST']\n",
    "slope, intercept, r_value, p_value, std_err = stats.linregress(x, y)\n",
    "\n",
    "# Add the overall trendline to the plot\n",
    "fig.add_shape(type='line',\n",
    "              x0=min(x), x1=max(x),\n",
    "              y0=slope * min(x) + intercept, y1=slope * max(x) + intercept,\n",
    "              yref='y', xref='x',\n",
    "              line=dict(color='gray', dash='dot'))\n",
    "\n",
    "# Display the interactive plot\n",
    "fig.show()"
   ]
  },
  {
   "cell_type": "code",
   "execution_count": 18,
   "id": "2619cf00",
   "metadata": {},
   "outputs": [
    {
     "data": {
      "application/vnd.plotly.v1+json": {
       "config": {
        "plotlyServerURL": "https://plot.ly"
       },
       "data": [
        {
         "alignmentgroup": "True",
         "customdata": [
          [
           "BOS",
           29
          ],
          [
           "GSW",
           31
          ],
          [
           "SAC",
           22
          ],
          [
           "GSW",
           23
          ],
          [
           "LAL",
           35
          ],
          [
           "HOU",
           31
          ],
          [
           "BRK",
           27
          ],
          [
           "DAL",
           20
          ],
          [
           "ATL",
           21
          ],
          [
           "POR",
           29
          ]
         ],
         "hovertemplate": "<b>%{hovertext}</b><br><br>Position=PG<br>Points=%{x}<br>Player Name=%{y}<br>Tm=%{customdata[0]}<br>Age=%{customdata[1]}<extra></extra>",
         "hovertext": [
          "Kemba Walker",
          "Stephen Curry",
          "De'Aaron Fox",
          "D'Angelo Russell",
          "LeBron James",
          "Russell Westbrook",
          "Kyrie Irving",
          "Luka Dončić",
          "Trae Young",
          "Damian Lillard"
         ],
         "legendgroup": "PG",
         "marker": {
          "color": "red",
          "pattern": {
           "shape": ""
          }
         },
         "name": "PG",
         "offsetgroup": "PG",
         "orientation": "h",
         "showlegend": true,
         "textposition": "auto",
         "type": "bar",
         "x": [
          20.4,
          20.8,
          21.1,
          23.6,
          25.3,
          27.2,
          27.4,
          28.8,
          29.6,
          30
         ],
         "xaxis": "x",
         "y": [
          "Kemba Walker",
          "Stephen Curry",
          "De'Aaron Fox",
          "D'Angelo Russell",
          "LeBron James",
          "Russell Westbrook",
          "Kyrie Irving",
          "Luka Dončić",
          "Trae Young",
          "Damian Lillard"
         ],
         "yaxis": "y"
        }
       ],
       "frames": [
        {
         "data": [
          {
           "alignmentgroup": "True",
           "customdata": [
            [
             "BOS",
             29
            ],
            [
             "GSW",
             31
            ],
            [
             "SAC",
             22
            ],
            [
             "GSW",
             23
            ],
            [
             "LAL",
             35
            ],
            [
             "HOU",
             31
            ],
            [
             "BRK",
             27
            ],
            [
             "DAL",
             20
            ],
            [
             "ATL",
             21
            ],
            [
             "POR",
             29
            ]
           ],
           "hovertemplate": "<b>%{hovertext}</b><br><br>Position=PG<br>Points=%{x}<br>Player Name=%{y}<br>Tm=%{customdata[0]}<br>Age=%{customdata[1]}<extra></extra>",
           "hovertext": [
            "Kemba Walker",
            "Stephen Curry",
            "De'Aaron Fox",
            "D'Angelo Russell",
            "LeBron James",
            "Russell Westbrook",
            "Kyrie Irving",
            "Luka Dončić",
            "Trae Young",
            "Damian Lillard"
           ],
           "legendgroup": "PG",
           "marker": {
            "color": "red",
            "pattern": {
             "shape": ""
            }
           },
           "name": "PG",
           "offsetgroup": "PG",
           "orientation": "h",
           "showlegend": true,
           "textposition": "auto",
           "type": "bar",
           "x": [
            20.4,
            20.8,
            21.1,
            23.6,
            25.3,
            27.2,
            27.4,
            28.8,
            29.6,
            30
           ],
           "xaxis": "x",
           "y": [
            "Kemba Walker",
            "Stephen Curry",
            "De'Aaron Fox",
            "D'Angelo Russell",
            "LeBron James",
            "Russell Westbrook",
            "Kyrie Irving",
            "Luka Dončić",
            "Trae Young",
            "Damian Lillard"
           ],
           "yaxis": "y"
          }
         ],
         "name": "PG"
        },
        {
         "data": [
          {
           "alignmentgroup": "True",
           "customdata": [
            [
             "SAC",
             27
            ],
            [
             "BRK",
             26
            ],
            [
             "MIN",
             23
            ],
            [
             "CLE",
             21
            ],
            [
             "POR",
             28
            ],
            [
             "UTA",
             23
            ],
            [
             "CHI",
             24
            ],
            [
             "PHO",
             23
            ],
            [
             "WAS",
             26
            ],
            [
             "HOU",
             30
            ]
           ],
           "hovertemplate": "<b>%{hovertext}</b><br><br>Position=SG<br>Points=%{x}<br>Player Name=%{y}<br>Tm=%{customdata[0]}<br>Age=%{customdata[1]}<extra></extra>",
           "hovertext": [
            "Buddy Hield",
            "Spencer Dinwiddie",
            "Malik Beasley",
            "Collin Sexton",
            "CJ McCollum",
            "Donovan Mitchell",
            "Zach LaVine",
            "Devin Booker",
            "Bradley Beal",
            "James Harden"
           ],
           "legendgroup": "SG",
           "marker": {
            "color": "blue",
            "pattern": {
             "shape": ""
            }
           },
           "name": "SG",
           "offsetgroup": "SG",
           "orientation": "h",
           "showlegend": true,
           "textposition": "auto",
           "type": "bar",
           "x": [
            19.2,
            20.6,
            20.7,
            20.8,
            22.2,
            24,
            25.5,
            26.6,
            30.5,
            34.3
           ],
           "xaxis": "x",
           "y": [
            "Buddy Hield",
            "Spencer Dinwiddie",
            "Malik Beasley",
            "Collin Sexton",
            "CJ McCollum",
            "Donovan Mitchell",
            "Zach LaVine",
            "Devin Booker",
            "Bradley Beal",
            "James Harden"
           ],
           "yaxis": "y"
          }
         ],
         "name": "SG"
        },
        {
         "data": [
          {
           "alignmentgroup": "True",
           "customdata": [
            [
             "NYK",
             30
            ],
            [
             "IND",
             26
            ],
            [
             "MIA",
             30
            ],
            [
             "UTA",
             30
            ],
            [
             "BOS",
             23
            ],
            [
             "MIL",
             28
            ],
            [
             "LAC",
             29
            ],
            [
             "SAS",
             30
            ],
            [
             "MIN",
             24
            ],
            [
             "LAC",
             28
            ]
           ],
           "hovertemplate": "<b>%{hovertext}</b><br><br>Position=SF<br>Points=%{x}<br>Player Name=%{y}<br>Tm=%{customdata[0]}<br>Age=%{customdata[1]}<extra></extra>",
           "hovertext": [
            "Marcus Morris",
            "T.J. Warren",
            "Jimmy Butler",
            "Bojan Bogdanović",
            "Jaylen Brown",
            "Khris Middleton",
            "Paul George",
            "DeMar DeRozan",
            "Andrew Wiggins",
            "Kawhi Leonard"
           ],
           "legendgroup": "SF",
           "marker": {
            "color": "green",
            "pattern": {
             "shape": ""
            }
           },
           "name": "SF",
           "offsetgroup": "SF",
           "orientation": "h",
           "showlegend": true,
           "textposition": "auto",
           "type": "bar",
           "x": [
            19.6,
            19.8,
            19.9,
            20.2,
            20.3,
            20.9,
            21.5,
            22.1,
            22.4,
            27.1
           ],
           "xaxis": "x",
           "y": [
            "Marcus Morris",
            "T.J. Warren",
            "Jimmy Butler",
            "Bojan Bogdanović",
            "Jaylen Brown",
            "Khris Middleton",
            "Paul George",
            "DeMar DeRozan",
            "Andrew Wiggins",
            "Kawhi Leonard"
           ],
           "yaxis": "y"
          }
         ],
         "name": "SF"
        },
        {
         "data": [
          {
           "alignmentgroup": "True",
           "customdata": [
            [
             "NYK",
             25
            ],
            [
             "PHI",
             27
            ],
            [
             "DAL",
             24
            ],
            [
             "ATL",
             22
            ],
            [
             "NOP",
             19
            ],
            [
             "TOR",
             25
            ],
            [
             "BOS",
             21
            ],
            [
             "NOP",
             22
            ],
            [
             "LAL",
             26
            ],
            [
             "MIL",
             25
            ]
           ],
           "hovertemplate": "<b>%{hovertext}</b><br><br>Position=PF<br>Points=%{x}<br>Player Name=%{y}<br>Tm=%{customdata[0]}<br>Age=%{customdata[1]}<extra></extra>",
           "hovertext": [
            "Julius Randle",
            "Tobias Harris",
            "Kristaps Porziņģis",
            "John Collins",
            "Zion Williamson",
            "Pascal Siakam",
            "Jayson Tatum",
            "Brandon Ingram",
            "Anthony Davis",
            "Giannis Antetokounmpo"
           ],
           "legendgroup": "PF",
           "marker": {
            "color": "orange",
            "pattern": {
             "shape": ""
            }
           },
           "name": "PF",
           "offsetgroup": "PF",
           "orientation": "h",
           "showlegend": true,
           "textposition": "auto",
           "type": "bar",
           "x": [
            19.5,
            19.6,
            20.4,
            21.6,
            22.5,
            22.9,
            23.4,
            23.8,
            26.1,
            29.5
           ],
           "xaxis": "x",
           "y": [
            "Julius Randle",
            "Tobias Harris",
            "Kristaps Porziņģis",
            "John Collins",
            "Zion Williamson",
            "Pascal Siakam",
            "Jayson Tatum",
            "Brandon Ingram",
            "Anthony Davis",
            "Giannis Antetokounmpo"
           ],
           "yaxis": "y"
          }
         ],
         "name": "PF"
        },
        {
         "data": [
          {
           "alignmentgroup": "True",
           "customdata": [
            [
             "MEM",
             20
            ],
            [
             "POR",
             25
            ],
            [
             "DET",
             26
            ],
            [
             "PHO",
             21
            ],
            [
             "LAC",
             26
            ],
            [
             "SAS",
             34
            ],
            [
             "ORL",
             29
            ],
            [
             "DEN",
             24
            ],
            [
             "PHI",
             25
            ],
            [
             "MIN",
             24
            ]
           ],
           "hovertemplate": "<b>%{hovertext}</b><br><br>Position=C<br>Points=%{x}<br>Player Name=%{y}<br>Tm=%{customdata[0]}<br>Age=%{customdata[1]}<extra></extra>",
           "hovertext": [
            "Jaren Jackson Jr.",
            "Jusuf Nurkić",
            "Andre Drummond",
            "Deandre Ayton",
            "Montrezl Harrell",
            "LaMarcus Aldridge",
            "Nikola Vučević",
            "Nikola Jokić",
            "Joel Embiid",
            "Karl-Anthony Towns"
           ],
           "legendgroup": "C",
           "marker": {
            "color": "purple",
            "pattern": {
             "shape": ""
            }
           },
           "name": "C",
           "offsetgroup": "C",
           "orientation": "h",
           "showlegend": true,
           "textposition": "auto",
           "type": "bar",
           "x": [
            17.4,
            17.6,
            17.8,
            18.2,
            18.6,
            18.9,
            19.6,
            19.9,
            23,
            26.5
           ],
           "xaxis": "x",
           "y": [
            "Jaren Jackson Jr.",
            "Jusuf Nurkić",
            "Andre Drummond",
            "Deandre Ayton",
            "Montrezl Harrell",
            "LaMarcus Aldridge",
            "Nikola Vučević",
            "Nikola Jokić",
            "Joel Embiid",
            "Karl-Anthony Towns"
           ],
           "yaxis": "y"
          }
         ],
         "name": "C"
        }
       ],
       "layout": {
        "barmode": "relative",
        "legend": {
         "title": {
          "text": "Position"
         },
         "tracegroupgap": 0
        },
        "sliders": [
         {
          "active": 0,
          "currentvalue": {
           "prefix": "Position="
          },
          "len": 0.9,
          "pad": {
           "b": 10,
           "t": 60
          },
          "steps": [
           {
            "args": [
             [
              "PG"
             ],
             {
              "frame": {
               "duration": 0,
               "redraw": true
              },
              "fromcurrent": true,
              "mode": "immediate",
              "transition": {
               "duration": 0,
               "easing": "linear"
              }
             }
            ],
            "label": "PG",
            "method": "animate"
           },
           {
            "args": [
             [
              "SG"
             ],
             {
              "frame": {
               "duration": 0,
               "redraw": true
              },
              "fromcurrent": true,
              "mode": "immediate",
              "transition": {
               "duration": 0,
               "easing": "linear"
              }
             }
            ],
            "label": "SG",
            "method": "animate"
           },
           {
            "args": [
             [
              "SF"
             ],
             {
              "frame": {
               "duration": 0,
               "redraw": true
              },
              "fromcurrent": true,
              "mode": "immediate",
              "transition": {
               "duration": 0,
               "easing": "linear"
              }
             }
            ],
            "label": "SF",
            "method": "animate"
           },
           {
            "args": [
             [
              "PF"
             ],
             {
              "frame": {
               "duration": 0,
               "redraw": true
              },
              "fromcurrent": true,
              "mode": "immediate",
              "transition": {
               "duration": 0,
               "easing": "linear"
              }
             }
            ],
            "label": "PF",
            "method": "animate"
           },
           {
            "args": [
             [
              "C"
             ],
             {
              "frame": {
               "duration": 0,
               "redraw": true
              },
              "fromcurrent": true,
              "mode": "immediate",
              "transition": {
               "duration": 0,
               "easing": "linear"
              }
             }
            ],
            "label": "C",
            "method": "animate"
           }
          ],
          "x": 0.1,
          "xanchor": "left",
          "y": 0,
          "yanchor": "top"
         }
        ],
        "template": {
         "data": {
          "bar": [
           {
            "error_x": {
             "color": "#2a3f5f"
            },
            "error_y": {
             "color": "#2a3f5f"
            },
            "marker": {
             "line": {
              "color": "#E5ECF6",
              "width": 0.5
             },
             "pattern": {
              "fillmode": "overlay",
              "size": 10,
              "solidity": 0.2
             }
            },
            "type": "bar"
           }
          ],
          "barpolar": [
           {
            "marker": {
             "line": {
              "color": "#E5ECF6",
              "width": 0.5
             },
             "pattern": {
              "fillmode": "overlay",
              "size": 10,
              "solidity": 0.2
             }
            },
            "type": "barpolar"
           }
          ],
          "carpet": [
           {
            "aaxis": {
             "endlinecolor": "#2a3f5f",
             "gridcolor": "white",
             "linecolor": "white",
             "minorgridcolor": "white",
             "startlinecolor": "#2a3f5f"
            },
            "baxis": {
             "endlinecolor": "#2a3f5f",
             "gridcolor": "white",
             "linecolor": "white",
             "minorgridcolor": "white",
             "startlinecolor": "#2a3f5f"
            },
            "type": "carpet"
           }
          ],
          "choropleth": [
           {
            "colorbar": {
             "outlinewidth": 0,
             "ticks": ""
            },
            "type": "choropleth"
           }
          ],
          "contour": [
           {
            "colorbar": {
             "outlinewidth": 0,
             "ticks": ""
            },
            "colorscale": [
             [
              0,
              "#0d0887"
             ],
             [
              0.1111111111111111,
              "#46039f"
             ],
             [
              0.2222222222222222,
              "#7201a8"
             ],
             [
              0.3333333333333333,
              "#9c179e"
             ],
             [
              0.4444444444444444,
              "#bd3786"
             ],
             [
              0.5555555555555556,
              "#d8576b"
             ],
             [
              0.6666666666666666,
              "#ed7953"
             ],
             [
              0.7777777777777778,
              "#fb9f3a"
             ],
             [
              0.8888888888888888,
              "#fdca26"
             ],
             [
              1,
              "#f0f921"
             ]
            ],
            "type": "contour"
           }
          ],
          "contourcarpet": [
           {
            "colorbar": {
             "outlinewidth": 0,
             "ticks": ""
            },
            "type": "contourcarpet"
           }
          ],
          "heatmap": [
           {
            "colorbar": {
             "outlinewidth": 0,
             "ticks": ""
            },
            "colorscale": [
             [
              0,
              "#0d0887"
             ],
             [
              0.1111111111111111,
              "#46039f"
             ],
             [
              0.2222222222222222,
              "#7201a8"
             ],
             [
              0.3333333333333333,
              "#9c179e"
             ],
             [
              0.4444444444444444,
              "#bd3786"
             ],
             [
              0.5555555555555556,
              "#d8576b"
             ],
             [
              0.6666666666666666,
              "#ed7953"
             ],
             [
              0.7777777777777778,
              "#fb9f3a"
             ],
             [
              0.8888888888888888,
              "#fdca26"
             ],
             [
              1,
              "#f0f921"
             ]
            ],
            "type": "heatmap"
           }
          ],
          "heatmapgl": [
           {
            "colorbar": {
             "outlinewidth": 0,
             "ticks": ""
            },
            "colorscale": [
             [
              0,
              "#0d0887"
             ],
             [
              0.1111111111111111,
              "#46039f"
             ],
             [
              0.2222222222222222,
              "#7201a8"
             ],
             [
              0.3333333333333333,
              "#9c179e"
             ],
             [
              0.4444444444444444,
              "#bd3786"
             ],
             [
              0.5555555555555556,
              "#d8576b"
             ],
             [
              0.6666666666666666,
              "#ed7953"
             ],
             [
              0.7777777777777778,
              "#fb9f3a"
             ],
             [
              0.8888888888888888,
              "#fdca26"
             ],
             [
              1,
              "#f0f921"
             ]
            ],
            "type": "heatmapgl"
           }
          ],
          "histogram": [
           {
            "marker": {
             "pattern": {
              "fillmode": "overlay",
              "size": 10,
              "solidity": 0.2
             }
            },
            "type": "histogram"
           }
          ],
          "histogram2d": [
           {
            "colorbar": {
             "outlinewidth": 0,
             "ticks": ""
            },
            "colorscale": [
             [
              0,
              "#0d0887"
             ],
             [
              0.1111111111111111,
              "#46039f"
             ],
             [
              0.2222222222222222,
              "#7201a8"
             ],
             [
              0.3333333333333333,
              "#9c179e"
             ],
             [
              0.4444444444444444,
              "#bd3786"
             ],
             [
              0.5555555555555556,
              "#d8576b"
             ],
             [
              0.6666666666666666,
              "#ed7953"
             ],
             [
              0.7777777777777778,
              "#fb9f3a"
             ],
             [
              0.8888888888888888,
              "#fdca26"
             ],
             [
              1,
              "#f0f921"
             ]
            ],
            "type": "histogram2d"
           }
          ],
          "histogram2dcontour": [
           {
            "colorbar": {
             "outlinewidth": 0,
             "ticks": ""
            },
            "colorscale": [
             [
              0,
              "#0d0887"
             ],
             [
              0.1111111111111111,
              "#46039f"
             ],
             [
              0.2222222222222222,
              "#7201a8"
             ],
             [
              0.3333333333333333,
              "#9c179e"
             ],
             [
              0.4444444444444444,
              "#bd3786"
             ],
             [
              0.5555555555555556,
              "#d8576b"
             ],
             [
              0.6666666666666666,
              "#ed7953"
             ],
             [
              0.7777777777777778,
              "#fb9f3a"
             ],
             [
              0.8888888888888888,
              "#fdca26"
             ],
             [
              1,
              "#f0f921"
             ]
            ],
            "type": "histogram2dcontour"
           }
          ],
          "mesh3d": [
           {
            "colorbar": {
             "outlinewidth": 0,
             "ticks": ""
            },
            "type": "mesh3d"
           }
          ],
          "parcoords": [
           {
            "line": {
             "colorbar": {
              "outlinewidth": 0,
              "ticks": ""
             }
            },
            "type": "parcoords"
           }
          ],
          "pie": [
           {
            "automargin": true,
            "type": "pie"
           }
          ],
          "scatter": [
           {
            "fillpattern": {
             "fillmode": "overlay",
             "size": 10,
             "solidity": 0.2
            },
            "type": "scatter"
           }
          ],
          "scatter3d": [
           {
            "line": {
             "colorbar": {
              "outlinewidth": 0,
              "ticks": ""
             }
            },
            "marker": {
             "colorbar": {
              "outlinewidth": 0,
              "ticks": ""
             }
            },
            "type": "scatter3d"
           }
          ],
          "scattercarpet": [
           {
            "marker": {
             "colorbar": {
              "outlinewidth": 0,
              "ticks": ""
             }
            },
            "type": "scattercarpet"
           }
          ],
          "scattergeo": [
           {
            "marker": {
             "colorbar": {
              "outlinewidth": 0,
              "ticks": ""
             }
            },
            "type": "scattergeo"
           }
          ],
          "scattergl": [
           {
            "marker": {
             "colorbar": {
              "outlinewidth": 0,
              "ticks": ""
             }
            },
            "type": "scattergl"
           }
          ],
          "scattermapbox": [
           {
            "marker": {
             "colorbar": {
              "outlinewidth": 0,
              "ticks": ""
             }
            },
            "type": "scattermapbox"
           }
          ],
          "scatterpolar": [
           {
            "marker": {
             "colorbar": {
              "outlinewidth": 0,
              "ticks": ""
             }
            },
            "type": "scatterpolar"
           }
          ],
          "scatterpolargl": [
           {
            "marker": {
             "colorbar": {
              "outlinewidth": 0,
              "ticks": ""
             }
            },
            "type": "scatterpolargl"
           }
          ],
          "scatterternary": [
           {
            "marker": {
             "colorbar": {
              "outlinewidth": 0,
              "ticks": ""
             }
            },
            "type": "scatterternary"
           }
          ],
          "surface": [
           {
            "colorbar": {
             "outlinewidth": 0,
             "ticks": ""
            },
            "colorscale": [
             [
              0,
              "#0d0887"
             ],
             [
              0.1111111111111111,
              "#46039f"
             ],
             [
              0.2222222222222222,
              "#7201a8"
             ],
             [
              0.3333333333333333,
              "#9c179e"
             ],
             [
              0.4444444444444444,
              "#bd3786"
             ],
             [
              0.5555555555555556,
              "#d8576b"
             ],
             [
              0.6666666666666666,
              "#ed7953"
             ],
             [
              0.7777777777777778,
              "#fb9f3a"
             ],
             [
              0.8888888888888888,
              "#fdca26"
             ],
             [
              1,
              "#f0f921"
             ]
            ],
            "type": "surface"
           }
          ],
          "table": [
           {
            "cells": {
             "fill": {
              "color": "#EBF0F8"
             },
             "line": {
              "color": "white"
             }
            },
            "header": {
             "fill": {
              "color": "#C8D4E3"
             },
             "line": {
              "color": "white"
             }
            },
            "type": "table"
           }
          ]
         },
         "layout": {
          "annotationdefaults": {
           "arrowcolor": "#2a3f5f",
           "arrowhead": 0,
           "arrowwidth": 1
          },
          "autotypenumbers": "strict",
          "coloraxis": {
           "colorbar": {
            "outlinewidth": 0,
            "ticks": ""
           }
          },
          "colorscale": {
           "diverging": [
            [
             0,
             "#8e0152"
            ],
            [
             0.1,
             "#c51b7d"
            ],
            [
             0.2,
             "#de77ae"
            ],
            [
             0.3,
             "#f1b6da"
            ],
            [
             0.4,
             "#fde0ef"
            ],
            [
             0.5,
             "#f7f7f7"
            ],
            [
             0.6,
             "#e6f5d0"
            ],
            [
             0.7,
             "#b8e186"
            ],
            [
             0.8,
             "#7fbc41"
            ],
            [
             0.9,
             "#4d9221"
            ],
            [
             1,
             "#276419"
            ]
           ],
           "sequential": [
            [
             0,
             "#0d0887"
            ],
            [
             0.1111111111111111,
             "#46039f"
            ],
            [
             0.2222222222222222,
             "#7201a8"
            ],
            [
             0.3333333333333333,
             "#9c179e"
            ],
            [
             0.4444444444444444,
             "#bd3786"
            ],
            [
             0.5555555555555556,
             "#d8576b"
            ],
            [
             0.6666666666666666,
             "#ed7953"
            ],
            [
             0.7777777777777778,
             "#fb9f3a"
            ],
            [
             0.8888888888888888,
             "#fdca26"
            ],
            [
             1,
             "#f0f921"
            ]
           ],
           "sequentialminus": [
            [
             0,
             "#0d0887"
            ],
            [
             0.1111111111111111,
             "#46039f"
            ],
            [
             0.2222222222222222,
             "#7201a8"
            ],
            [
             0.3333333333333333,
             "#9c179e"
            ],
            [
             0.4444444444444444,
             "#bd3786"
            ],
            [
             0.5555555555555556,
             "#d8576b"
            ],
            [
             0.6666666666666666,
             "#ed7953"
            ],
            [
             0.7777777777777778,
             "#fb9f3a"
            ],
            [
             0.8888888888888888,
             "#fdca26"
            ],
            [
             1,
             "#f0f921"
            ]
           ]
          },
          "colorway": [
           "#636efa",
           "#EF553B",
           "#00cc96",
           "#ab63fa",
           "#FFA15A",
           "#19d3f3",
           "#FF6692",
           "#B6E880",
           "#FF97FF",
           "#FECB52"
          ],
          "font": {
           "color": "#2a3f5f"
          },
          "geo": {
           "bgcolor": "white",
           "lakecolor": "white",
           "landcolor": "#E5ECF6",
           "showlakes": true,
           "showland": true,
           "subunitcolor": "white"
          },
          "hoverlabel": {
           "align": "left"
          },
          "hovermode": "closest",
          "mapbox": {
           "style": "light"
          },
          "paper_bgcolor": "white",
          "plot_bgcolor": "#E5ECF6",
          "polar": {
           "angularaxis": {
            "gridcolor": "white",
            "linecolor": "white",
            "ticks": ""
           },
           "bgcolor": "#E5ECF6",
           "radialaxis": {
            "gridcolor": "white",
            "linecolor": "white",
            "ticks": ""
           }
          },
          "scene": {
           "xaxis": {
            "backgroundcolor": "#E5ECF6",
            "gridcolor": "white",
            "gridwidth": 2,
            "linecolor": "white",
            "showbackground": true,
            "ticks": "",
            "zerolinecolor": "white"
           },
           "yaxis": {
            "backgroundcolor": "#E5ECF6",
            "gridcolor": "white",
            "gridwidth": 2,
            "linecolor": "white",
            "showbackground": true,
            "ticks": "",
            "zerolinecolor": "white"
           },
           "zaxis": {
            "backgroundcolor": "#E5ECF6",
            "gridcolor": "white",
            "gridwidth": 2,
            "linecolor": "white",
            "showbackground": true,
            "ticks": "",
            "zerolinecolor": "white"
           }
          },
          "shapedefaults": {
           "line": {
            "color": "#2a3f5f"
           }
          },
          "ternary": {
           "aaxis": {
            "gridcolor": "white",
            "linecolor": "white",
            "ticks": ""
           },
           "baxis": {
            "gridcolor": "white",
            "linecolor": "white",
            "ticks": ""
           },
           "bgcolor": "#E5ECF6",
           "caxis": {
            "gridcolor": "white",
            "linecolor": "white",
            "ticks": ""
           }
          },
          "title": {
           "x": 0.05
          },
          "xaxis": {
           "automargin": true,
           "gridcolor": "white",
           "linecolor": "white",
           "ticks": "",
           "title": {
            "standoff": 15
           },
           "zerolinecolor": "white",
           "zerolinewidth": 2
          },
          "yaxis": {
           "automargin": true,
           "gridcolor": "white",
           "linecolor": "white",
           "ticks": "",
           "title": {
            "standoff": 15
           },
           "zerolinecolor": "white",
           "zerolinewidth": 2
          }
         }
        },
        "title": {
         "text": "Top 10 NBA Players by Points per Position"
        },
        "updatemenus": [
         {
          "buttons": [
           {
            "args": [
             null,
             {
              "frame": {
               "duration": 500,
               "redraw": true
              },
              "fromcurrent": true,
              "mode": "immediate",
              "transition": {
               "duration": 500,
               "easing": "linear"
              }
             }
            ],
            "label": "&#9654;",
            "method": "animate"
           },
           {
            "args": [
             [
              null
             ],
             {
              "frame": {
               "duration": 0,
               "redraw": true
              },
              "fromcurrent": true,
              "mode": "immediate",
              "transition": {
               "duration": 0,
               "easing": "linear"
              }
             }
            ],
            "label": "&#9724;",
            "method": "animate"
           }
          ],
          "direction": "left",
          "pad": {
           "r": 10,
           "t": 70
          },
          "showactive": false,
          "type": "buttons",
          "x": 0.1,
          "xanchor": "right",
          "y": 0,
          "yanchor": "top"
         }
        ],
        "xaxis": {
         "anchor": "y",
         "domain": [
          0,
          1
         ],
         "range": [
          0,
          37.73
         ],
         "title": {
          "text": "Points"
         }
        },
        "yaxis": {
         "anchor": "x",
         "domain": [
          0,
          1
         ],
         "title": {
          "text": "Player Name"
         }
        }
       }
      },
      "text/html": [
       "<div>                            <div id=\"1f4fd3c1-066e-42f2-a503-d2e9ef6f77b8\" class=\"plotly-graph-div\" style=\"height:525px; width:100%;\"></div>            <script type=\"text/javascript\">                require([\"plotly\"], function(Plotly) {                    window.PLOTLYENV=window.PLOTLYENV || {};                                    if (document.getElementById(\"1f4fd3c1-066e-42f2-a503-d2e9ef6f77b8\")) {                    Plotly.newPlot(                        \"1f4fd3c1-066e-42f2-a503-d2e9ef6f77b8\",                        [{\"alignmentgroup\":\"True\",\"customdata\":[[\"BOS\",29],[\"GSW\",31],[\"SAC\",22],[\"GSW\",23],[\"LAL\",35],[\"HOU\",31],[\"BRK\",27],[\"DAL\",20],[\"ATL\",21],[\"POR\",29]],\"hovertemplate\":\"<b>%{hovertext}</b><br><br>Position=PG<br>Points=%{x}<br>Player Name=%{y}<br>Tm=%{customdata[0]}<br>Age=%{customdata[1]}<extra></extra>\",\"hovertext\":[\"Kemba Walker\",\"Stephen Curry\",\"De'Aaron Fox\",\"D'Angelo Russell\",\"LeBron James\",\"Russell Westbrook\",\"Kyrie Irving\",\"Luka Don\\u010di\\u0107\",\"Trae Young\",\"Damian Lillard\"],\"legendgroup\":\"PG\",\"marker\":{\"color\":\"red\",\"pattern\":{\"shape\":\"\"}},\"name\":\"PG\",\"offsetgroup\":\"PG\",\"orientation\":\"h\",\"showlegend\":true,\"textposition\":\"auto\",\"x\":[20.4,20.8,21.1,23.6,25.3,27.2,27.4,28.8,29.6,30.0],\"xaxis\":\"x\",\"y\":[\"Kemba Walker\",\"Stephen Curry\",\"De'Aaron Fox\",\"D'Angelo Russell\",\"LeBron James\",\"Russell Westbrook\",\"Kyrie Irving\",\"Luka Don\\u010di\\u0107\",\"Trae Young\",\"Damian Lillard\"],\"yaxis\":\"y\",\"type\":\"bar\"}],                        {\"template\":{\"data\":{\"histogram2dcontour\":[{\"type\":\"histogram2dcontour\",\"colorbar\":{\"outlinewidth\":0,\"ticks\":\"\"},\"colorscale\":[[0.0,\"#0d0887\"],[0.1111111111111111,\"#46039f\"],[0.2222222222222222,\"#7201a8\"],[0.3333333333333333,\"#9c179e\"],[0.4444444444444444,\"#bd3786\"],[0.5555555555555556,\"#d8576b\"],[0.6666666666666666,\"#ed7953\"],[0.7777777777777778,\"#fb9f3a\"],[0.8888888888888888,\"#fdca26\"],[1.0,\"#f0f921\"]]}],\"choropleth\":[{\"type\":\"choropleth\",\"colorbar\":{\"outlinewidth\":0,\"ticks\":\"\"}}],\"histogram2d\":[{\"type\":\"histogram2d\",\"colorbar\":{\"outlinewidth\":0,\"ticks\":\"\"},\"colorscale\":[[0.0,\"#0d0887\"],[0.1111111111111111,\"#46039f\"],[0.2222222222222222,\"#7201a8\"],[0.3333333333333333,\"#9c179e\"],[0.4444444444444444,\"#bd3786\"],[0.5555555555555556,\"#d8576b\"],[0.6666666666666666,\"#ed7953\"],[0.7777777777777778,\"#fb9f3a\"],[0.8888888888888888,\"#fdca26\"],[1.0,\"#f0f921\"]]}],\"heatmap\":[{\"type\":\"heatmap\",\"colorbar\":{\"outlinewidth\":0,\"ticks\":\"\"},\"colorscale\":[[0.0,\"#0d0887\"],[0.1111111111111111,\"#46039f\"],[0.2222222222222222,\"#7201a8\"],[0.3333333333333333,\"#9c179e\"],[0.4444444444444444,\"#bd3786\"],[0.5555555555555556,\"#d8576b\"],[0.6666666666666666,\"#ed7953\"],[0.7777777777777778,\"#fb9f3a\"],[0.8888888888888888,\"#fdca26\"],[1.0,\"#f0f921\"]]}],\"heatmapgl\":[{\"type\":\"heatmapgl\",\"colorbar\":{\"outlinewidth\":0,\"ticks\":\"\"},\"colorscale\":[[0.0,\"#0d0887\"],[0.1111111111111111,\"#46039f\"],[0.2222222222222222,\"#7201a8\"],[0.3333333333333333,\"#9c179e\"],[0.4444444444444444,\"#bd3786\"],[0.5555555555555556,\"#d8576b\"],[0.6666666666666666,\"#ed7953\"],[0.7777777777777778,\"#fb9f3a\"],[0.8888888888888888,\"#fdca26\"],[1.0,\"#f0f921\"]]}],\"contourcarpet\":[{\"type\":\"contourcarpet\",\"colorbar\":{\"outlinewidth\":0,\"ticks\":\"\"}}],\"contour\":[{\"type\":\"contour\",\"colorbar\":{\"outlinewidth\":0,\"ticks\":\"\"},\"colorscale\":[[0.0,\"#0d0887\"],[0.1111111111111111,\"#46039f\"],[0.2222222222222222,\"#7201a8\"],[0.3333333333333333,\"#9c179e\"],[0.4444444444444444,\"#bd3786\"],[0.5555555555555556,\"#d8576b\"],[0.6666666666666666,\"#ed7953\"],[0.7777777777777778,\"#fb9f3a\"],[0.8888888888888888,\"#fdca26\"],[1.0,\"#f0f921\"]]}],\"surface\":[{\"type\":\"surface\",\"colorbar\":{\"outlinewidth\":0,\"ticks\":\"\"},\"colorscale\":[[0.0,\"#0d0887\"],[0.1111111111111111,\"#46039f\"],[0.2222222222222222,\"#7201a8\"],[0.3333333333333333,\"#9c179e\"],[0.4444444444444444,\"#bd3786\"],[0.5555555555555556,\"#d8576b\"],[0.6666666666666666,\"#ed7953\"],[0.7777777777777778,\"#fb9f3a\"],[0.8888888888888888,\"#fdca26\"],[1.0,\"#f0f921\"]]}],\"mesh3d\":[{\"type\":\"mesh3d\",\"colorbar\":{\"outlinewidth\":0,\"ticks\":\"\"}}],\"scatter\":[{\"fillpattern\":{\"fillmode\":\"overlay\",\"size\":10,\"solidity\":0.2},\"type\":\"scatter\"}],\"parcoords\":[{\"type\":\"parcoords\",\"line\":{\"colorbar\":{\"outlinewidth\":0,\"ticks\":\"\"}}}],\"scatterpolargl\":[{\"type\":\"scatterpolargl\",\"marker\":{\"colorbar\":{\"outlinewidth\":0,\"ticks\":\"\"}}}],\"bar\":[{\"error_x\":{\"color\":\"#2a3f5f\"},\"error_y\":{\"color\":\"#2a3f5f\"},\"marker\":{\"line\":{\"color\":\"#E5ECF6\",\"width\":0.5},\"pattern\":{\"fillmode\":\"overlay\",\"size\":10,\"solidity\":0.2}},\"type\":\"bar\"}],\"scattergeo\":[{\"type\":\"scattergeo\",\"marker\":{\"colorbar\":{\"outlinewidth\":0,\"ticks\":\"\"}}}],\"scatterpolar\":[{\"type\":\"scatterpolar\",\"marker\":{\"colorbar\":{\"outlinewidth\":0,\"ticks\":\"\"}}}],\"histogram\":[{\"marker\":{\"pattern\":{\"fillmode\":\"overlay\",\"size\":10,\"solidity\":0.2}},\"type\":\"histogram\"}],\"scattergl\":[{\"type\":\"scattergl\",\"marker\":{\"colorbar\":{\"outlinewidth\":0,\"ticks\":\"\"}}}],\"scatter3d\":[{\"type\":\"scatter3d\",\"line\":{\"colorbar\":{\"outlinewidth\":0,\"ticks\":\"\"}},\"marker\":{\"colorbar\":{\"outlinewidth\":0,\"ticks\":\"\"}}}],\"scattermapbox\":[{\"type\":\"scattermapbox\",\"marker\":{\"colorbar\":{\"outlinewidth\":0,\"ticks\":\"\"}}}],\"scatterternary\":[{\"type\":\"scatterternary\",\"marker\":{\"colorbar\":{\"outlinewidth\":0,\"ticks\":\"\"}}}],\"scattercarpet\":[{\"type\":\"scattercarpet\",\"marker\":{\"colorbar\":{\"outlinewidth\":0,\"ticks\":\"\"}}}],\"carpet\":[{\"aaxis\":{\"endlinecolor\":\"#2a3f5f\",\"gridcolor\":\"white\",\"linecolor\":\"white\",\"minorgridcolor\":\"white\",\"startlinecolor\":\"#2a3f5f\"},\"baxis\":{\"endlinecolor\":\"#2a3f5f\",\"gridcolor\":\"white\",\"linecolor\":\"white\",\"minorgridcolor\":\"white\",\"startlinecolor\":\"#2a3f5f\"},\"type\":\"carpet\"}],\"table\":[{\"cells\":{\"fill\":{\"color\":\"#EBF0F8\"},\"line\":{\"color\":\"white\"}},\"header\":{\"fill\":{\"color\":\"#C8D4E3\"},\"line\":{\"color\":\"white\"}},\"type\":\"table\"}],\"barpolar\":[{\"marker\":{\"line\":{\"color\":\"#E5ECF6\",\"width\":0.5},\"pattern\":{\"fillmode\":\"overlay\",\"size\":10,\"solidity\":0.2}},\"type\":\"barpolar\"}],\"pie\":[{\"automargin\":true,\"type\":\"pie\"}]},\"layout\":{\"autotypenumbers\":\"strict\",\"colorway\":[\"#636efa\",\"#EF553B\",\"#00cc96\",\"#ab63fa\",\"#FFA15A\",\"#19d3f3\",\"#FF6692\",\"#B6E880\",\"#FF97FF\",\"#FECB52\"],\"font\":{\"color\":\"#2a3f5f\"},\"hovermode\":\"closest\",\"hoverlabel\":{\"align\":\"left\"},\"paper_bgcolor\":\"white\",\"plot_bgcolor\":\"#E5ECF6\",\"polar\":{\"bgcolor\":\"#E5ECF6\",\"angularaxis\":{\"gridcolor\":\"white\",\"linecolor\":\"white\",\"ticks\":\"\"},\"radialaxis\":{\"gridcolor\":\"white\",\"linecolor\":\"white\",\"ticks\":\"\"}},\"ternary\":{\"bgcolor\":\"#E5ECF6\",\"aaxis\":{\"gridcolor\":\"white\",\"linecolor\":\"white\",\"ticks\":\"\"},\"baxis\":{\"gridcolor\":\"white\",\"linecolor\":\"white\",\"ticks\":\"\"},\"caxis\":{\"gridcolor\":\"white\",\"linecolor\":\"white\",\"ticks\":\"\"}},\"coloraxis\":{\"colorbar\":{\"outlinewidth\":0,\"ticks\":\"\"}},\"colorscale\":{\"sequential\":[[0.0,\"#0d0887\"],[0.1111111111111111,\"#46039f\"],[0.2222222222222222,\"#7201a8\"],[0.3333333333333333,\"#9c179e\"],[0.4444444444444444,\"#bd3786\"],[0.5555555555555556,\"#d8576b\"],[0.6666666666666666,\"#ed7953\"],[0.7777777777777778,\"#fb9f3a\"],[0.8888888888888888,\"#fdca26\"],[1.0,\"#f0f921\"]],\"sequentialminus\":[[0.0,\"#0d0887\"],[0.1111111111111111,\"#46039f\"],[0.2222222222222222,\"#7201a8\"],[0.3333333333333333,\"#9c179e\"],[0.4444444444444444,\"#bd3786\"],[0.5555555555555556,\"#d8576b\"],[0.6666666666666666,\"#ed7953\"],[0.7777777777777778,\"#fb9f3a\"],[0.8888888888888888,\"#fdca26\"],[1.0,\"#f0f921\"]],\"diverging\":[[0,\"#8e0152\"],[0.1,\"#c51b7d\"],[0.2,\"#de77ae\"],[0.3,\"#f1b6da\"],[0.4,\"#fde0ef\"],[0.5,\"#f7f7f7\"],[0.6,\"#e6f5d0\"],[0.7,\"#b8e186\"],[0.8,\"#7fbc41\"],[0.9,\"#4d9221\"],[1,\"#276419\"]]},\"xaxis\":{\"gridcolor\":\"white\",\"linecolor\":\"white\",\"ticks\":\"\",\"title\":{\"standoff\":15},\"zerolinecolor\":\"white\",\"automargin\":true,\"zerolinewidth\":2},\"yaxis\":{\"gridcolor\":\"white\",\"linecolor\":\"white\",\"ticks\":\"\",\"title\":{\"standoff\":15},\"zerolinecolor\":\"white\",\"automargin\":true,\"zerolinewidth\":2},\"scene\":{\"xaxis\":{\"backgroundcolor\":\"#E5ECF6\",\"gridcolor\":\"white\",\"linecolor\":\"white\",\"showbackground\":true,\"ticks\":\"\",\"zerolinecolor\":\"white\",\"gridwidth\":2},\"yaxis\":{\"backgroundcolor\":\"#E5ECF6\",\"gridcolor\":\"white\",\"linecolor\":\"white\",\"showbackground\":true,\"ticks\":\"\",\"zerolinecolor\":\"white\",\"gridwidth\":2},\"zaxis\":{\"backgroundcolor\":\"#E5ECF6\",\"gridcolor\":\"white\",\"linecolor\":\"white\",\"showbackground\":true,\"ticks\":\"\",\"zerolinecolor\":\"white\",\"gridwidth\":2}},\"shapedefaults\":{\"line\":{\"color\":\"#2a3f5f\"}},\"annotationdefaults\":{\"arrowcolor\":\"#2a3f5f\",\"arrowhead\":0,\"arrowwidth\":1},\"geo\":{\"bgcolor\":\"white\",\"landcolor\":\"#E5ECF6\",\"subunitcolor\":\"white\",\"showland\":true,\"showlakes\":true,\"lakecolor\":\"white\"},\"title\":{\"x\":0.05},\"mapbox\":{\"style\":\"light\"}}},\"xaxis\":{\"anchor\":\"y\",\"domain\":[0.0,1.0],\"title\":{\"text\":\"Points\"},\"range\":[0,37.73]},\"yaxis\":{\"anchor\":\"x\",\"domain\":[0.0,1.0],\"title\":{\"text\":\"Player Name\"}},\"legend\":{\"title\":{\"text\":\"Position\"},\"tracegroupgap\":0},\"title\":{\"text\":\"Top 10 NBA Players by Points per Position\"},\"barmode\":\"relative\",\"updatemenus\":[{\"buttons\":[{\"args\":[null,{\"frame\":{\"duration\":500,\"redraw\":true},\"mode\":\"immediate\",\"fromcurrent\":true,\"transition\":{\"duration\":500,\"easing\":\"linear\"}}],\"label\":\"&#9654;\",\"method\":\"animate\"},{\"args\":[[null],{\"frame\":{\"duration\":0,\"redraw\":true},\"mode\":\"immediate\",\"fromcurrent\":true,\"transition\":{\"duration\":0,\"easing\":\"linear\"}}],\"label\":\"&#9724;\",\"method\":\"animate\"}],\"direction\":\"left\",\"pad\":{\"r\":10,\"t\":70},\"showactive\":false,\"type\":\"buttons\",\"x\":0.1,\"xanchor\":\"right\",\"y\":0,\"yanchor\":\"top\"}],\"sliders\":[{\"active\":0,\"currentvalue\":{\"prefix\":\"Position=\"},\"len\":0.9,\"pad\":{\"b\":10,\"t\":60},\"steps\":[{\"args\":[[\"PG\"],{\"frame\":{\"duration\":0,\"redraw\":true},\"mode\":\"immediate\",\"fromcurrent\":true,\"transition\":{\"duration\":0,\"easing\":\"linear\"}}],\"label\":\"PG\",\"method\":\"animate\"},{\"args\":[[\"SG\"],{\"frame\":{\"duration\":0,\"redraw\":true},\"mode\":\"immediate\",\"fromcurrent\":true,\"transition\":{\"duration\":0,\"easing\":\"linear\"}}],\"label\":\"SG\",\"method\":\"animate\"},{\"args\":[[\"SF\"],{\"frame\":{\"duration\":0,\"redraw\":true},\"mode\":\"immediate\",\"fromcurrent\":true,\"transition\":{\"duration\":0,\"easing\":\"linear\"}}],\"label\":\"SF\",\"method\":\"animate\"},{\"args\":[[\"PF\"],{\"frame\":{\"duration\":0,\"redraw\":true},\"mode\":\"immediate\",\"fromcurrent\":true,\"transition\":{\"duration\":0,\"easing\":\"linear\"}}],\"label\":\"PF\",\"method\":\"animate\"},{\"args\":[[\"C\"],{\"frame\":{\"duration\":0,\"redraw\":true},\"mode\":\"immediate\",\"fromcurrent\":true,\"transition\":{\"duration\":0,\"easing\":\"linear\"}}],\"label\":\"C\",\"method\":\"animate\"}],\"x\":0.1,\"xanchor\":\"left\",\"y\":0,\"yanchor\":\"top\"}]},                        {\"responsive\": true}                    ).then(function(){\n",
       "                            Plotly.addFrames('1f4fd3c1-066e-42f2-a503-d2e9ef6f77b8', [{\"data\":[{\"alignmentgroup\":\"True\",\"customdata\":[[\"BOS\",29],[\"GSW\",31],[\"SAC\",22],[\"GSW\",23],[\"LAL\",35],[\"HOU\",31],[\"BRK\",27],[\"DAL\",20],[\"ATL\",21],[\"POR\",29]],\"hovertemplate\":\"<b>%{hovertext}</b><br><br>Position=PG<br>Points=%{x}<br>Player Name=%{y}<br>Tm=%{customdata[0]}<br>Age=%{customdata[1]}<extra></extra>\",\"hovertext\":[\"Kemba Walker\",\"Stephen Curry\",\"De'Aaron Fox\",\"D'Angelo Russell\",\"LeBron James\",\"Russell Westbrook\",\"Kyrie Irving\",\"Luka Don\\u010di\\u0107\",\"Trae Young\",\"Damian Lillard\"],\"legendgroup\":\"PG\",\"marker\":{\"color\":\"red\",\"pattern\":{\"shape\":\"\"}},\"name\":\"PG\",\"offsetgroup\":\"PG\",\"orientation\":\"h\",\"showlegend\":true,\"textposition\":\"auto\",\"x\":[20.4,20.8,21.1,23.6,25.3,27.2,27.4,28.8,29.6,30.0],\"xaxis\":\"x\",\"y\":[\"Kemba Walker\",\"Stephen Curry\",\"De'Aaron Fox\",\"D'Angelo Russell\",\"LeBron James\",\"Russell Westbrook\",\"Kyrie Irving\",\"Luka Don\\u010di\\u0107\",\"Trae Young\",\"Damian Lillard\"],\"yaxis\":\"y\",\"type\":\"bar\"}],\"name\":\"PG\"},{\"data\":[{\"alignmentgroup\":\"True\",\"customdata\":[[\"SAC\",27],[\"BRK\",26],[\"MIN\",23],[\"CLE\",21],[\"POR\",28],[\"UTA\",23],[\"CHI\",24],[\"PHO\",23],[\"WAS\",26],[\"HOU\",30]],\"hovertemplate\":\"<b>%{hovertext}</b><br><br>Position=SG<br>Points=%{x}<br>Player Name=%{y}<br>Tm=%{customdata[0]}<br>Age=%{customdata[1]}<extra></extra>\",\"hovertext\":[\"Buddy Hield\",\"Spencer Dinwiddie\",\"Malik Beasley\",\"Collin Sexton\",\"CJ McCollum\",\"Donovan Mitchell\",\"Zach LaVine\",\"Devin Booker\",\"Bradley Beal\",\"James Harden\"],\"legendgroup\":\"SG\",\"marker\":{\"color\":\"blue\",\"pattern\":{\"shape\":\"\"}},\"name\":\"SG\",\"offsetgroup\":\"SG\",\"orientation\":\"h\",\"showlegend\":true,\"textposition\":\"auto\",\"x\":[19.2,20.6,20.7,20.8,22.2,24.0,25.5,26.6,30.5,34.3],\"xaxis\":\"x\",\"y\":[\"Buddy Hield\",\"Spencer Dinwiddie\",\"Malik Beasley\",\"Collin Sexton\",\"CJ McCollum\",\"Donovan Mitchell\",\"Zach LaVine\",\"Devin Booker\",\"Bradley Beal\",\"James Harden\"],\"yaxis\":\"y\",\"type\":\"bar\"}],\"name\":\"SG\"},{\"data\":[{\"alignmentgroup\":\"True\",\"customdata\":[[\"NYK\",30],[\"IND\",26],[\"MIA\",30],[\"UTA\",30],[\"BOS\",23],[\"MIL\",28],[\"LAC\",29],[\"SAS\",30],[\"MIN\",24],[\"LAC\",28]],\"hovertemplate\":\"<b>%{hovertext}</b><br><br>Position=SF<br>Points=%{x}<br>Player Name=%{y}<br>Tm=%{customdata[0]}<br>Age=%{customdata[1]}<extra></extra>\",\"hovertext\":[\"Marcus Morris\",\"T.J. Warren\",\"Jimmy Butler\",\"Bojan Bogdanovi\\u0107\",\"Jaylen Brown\",\"Khris Middleton\",\"Paul George\",\"DeMar DeRozan\",\"Andrew Wiggins\",\"Kawhi Leonard\"],\"legendgroup\":\"SF\",\"marker\":{\"color\":\"green\",\"pattern\":{\"shape\":\"\"}},\"name\":\"SF\",\"offsetgroup\":\"SF\",\"orientation\":\"h\",\"showlegend\":true,\"textposition\":\"auto\",\"x\":[19.6,19.8,19.9,20.2,20.3,20.9,21.5,22.1,22.4,27.1],\"xaxis\":\"x\",\"y\":[\"Marcus Morris\",\"T.J. Warren\",\"Jimmy Butler\",\"Bojan Bogdanovi\\u0107\",\"Jaylen Brown\",\"Khris Middleton\",\"Paul George\",\"DeMar DeRozan\",\"Andrew Wiggins\",\"Kawhi Leonard\"],\"yaxis\":\"y\",\"type\":\"bar\"}],\"name\":\"SF\"},{\"data\":[{\"alignmentgroup\":\"True\",\"customdata\":[[\"NYK\",25],[\"PHI\",27],[\"DAL\",24],[\"ATL\",22],[\"NOP\",19],[\"TOR\",25],[\"BOS\",21],[\"NOP\",22],[\"LAL\",26],[\"MIL\",25]],\"hovertemplate\":\"<b>%{hovertext}</b><br><br>Position=PF<br>Points=%{x}<br>Player Name=%{y}<br>Tm=%{customdata[0]}<br>Age=%{customdata[1]}<extra></extra>\",\"hovertext\":[\"Julius Randle\",\"Tobias Harris\",\"Kristaps Porzi\\u0146\\u0123is\",\"John Collins\",\"Zion Williamson\",\"Pascal Siakam\",\"Jayson Tatum\",\"Brandon Ingram\",\"Anthony Davis\",\"Giannis Antetokounmpo\"],\"legendgroup\":\"PF\",\"marker\":{\"color\":\"orange\",\"pattern\":{\"shape\":\"\"}},\"name\":\"PF\",\"offsetgroup\":\"PF\",\"orientation\":\"h\",\"showlegend\":true,\"textposition\":\"auto\",\"x\":[19.5,19.6,20.4,21.6,22.5,22.9,23.4,23.8,26.1,29.5],\"xaxis\":\"x\",\"y\":[\"Julius Randle\",\"Tobias Harris\",\"Kristaps Porzi\\u0146\\u0123is\",\"John Collins\",\"Zion Williamson\",\"Pascal Siakam\",\"Jayson Tatum\",\"Brandon Ingram\",\"Anthony Davis\",\"Giannis Antetokounmpo\"],\"yaxis\":\"y\",\"type\":\"bar\"}],\"name\":\"PF\"},{\"data\":[{\"alignmentgroup\":\"True\",\"customdata\":[[\"MEM\",20],[\"POR\",25],[\"DET\",26],[\"PHO\",21],[\"LAC\",26],[\"SAS\",34],[\"ORL\",29],[\"DEN\",24],[\"PHI\",25],[\"MIN\",24]],\"hovertemplate\":\"<b>%{hovertext}</b><br><br>Position=C<br>Points=%{x}<br>Player Name=%{y}<br>Tm=%{customdata[0]}<br>Age=%{customdata[1]}<extra></extra>\",\"hovertext\":[\"Jaren Jackson Jr.\",\"Jusuf Nurki\\u0107\",\"Andre Drummond\",\"Deandre Ayton\",\"Montrezl Harrell\",\"LaMarcus Aldridge\",\"Nikola Vu\\u010devi\\u0107\",\"Nikola Joki\\u0107\",\"Joel Embiid\",\"Karl-Anthony Towns\"],\"legendgroup\":\"C\",\"marker\":{\"color\":\"purple\",\"pattern\":{\"shape\":\"\"}},\"name\":\"C\",\"offsetgroup\":\"C\",\"orientation\":\"h\",\"showlegend\":true,\"textposition\":\"auto\",\"x\":[17.4,17.6,17.8,18.2,18.6,18.9,19.6,19.9,23.0,26.5],\"xaxis\":\"x\",\"y\":[\"Jaren Jackson Jr.\",\"Jusuf Nurki\\u0107\",\"Andre Drummond\",\"Deandre Ayton\",\"Montrezl Harrell\",\"LaMarcus Aldridge\",\"Nikola Vu\\u010devi\\u0107\",\"Nikola Joki\\u0107\",\"Joel Embiid\",\"Karl-Anthony Towns\"],\"yaxis\":\"y\",\"type\":\"bar\"}],\"name\":\"C\"}]);\n",
       "                        }).then(function(){\n",
       "                            \n",
       "var gd = document.getElementById('1f4fd3c1-066e-42f2-a503-d2e9ef6f77b8');\n",
       "var x = new MutationObserver(function (mutations, observer) {{\n",
       "        var display = window.getComputedStyle(gd).display;\n",
       "        if (!display || display === 'none') {{\n",
       "            console.log([gd, 'removed!']);\n",
       "            Plotly.purge(gd);\n",
       "            observer.disconnect();\n",
       "        }}\n",
       "}});\n",
       "\n",
       "// Listen for the removal of the full notebook cells\n",
       "var notebookContainer = gd.closest('#notebook-container');\n",
       "if (notebookContainer) {{\n",
       "    x.observe(notebookContainer, {childList: true});\n",
       "}}\n",
       "\n",
       "// Listen for the clearing of the current output cell\n",
       "var outputEl = gd.closest('.output');\n",
       "if (outputEl) {{\n",
       "    x.observe(outputEl, {childList: true});\n",
       "}}\n",
       "\n",
       "                        })                };                });            </script>        </div>"
      ]
     },
     "metadata": {},
     "output_type": "display_data"
    }
   ],
   "source": [
    "# Filter the data to include only the five basic positions\n",
    "basic_positions = ['PG', 'SG', 'SF', 'PF', 'C']\n",
    "data = data[data['Pos'].isin(basic_positions)]\n",
    "\n",
    "# If one player has many teams, choose the highest point team\n",
    "data = data.loc[data.groupby('Player')['PTS'].idxmax()]\n",
    "\n",
    "# Sort the data by points scored and group them by position\n",
    "top_10_by_position = []\n",
    "for position in basic_positions:\n",
    "    top_10 = data[data['Pos'] == position].nlargest(10, 'PTS')\n",
    "    top_10_by_position.append(top_10)\n",
    "\n",
    "data = pd.concat(top_10_by_position)\n",
    "\n",
    "# Reorder the data by position and points for better animation\n",
    "data['Pos'] = pd.Categorical(data['Pos'], categories=basic_positions, ordered=True)\n",
    "data = data.sort_values(['Pos', 'PTS'], ascending=[True, True])\n",
    "\n",
    "# Create an animated bar chart using Plotly Express\n",
    "fig = px.bar(data,\n",
    "             x='PTS',\n",
    "             y='Player',\n",
    "             color='Pos',\n",
    "             color_discrete_map=position_colors,\n",
    "             animation_frame='Pos',\n",
    "             orientation='h',\n",
    "             hover_name='Player',\n",
    "             hover_data=['Tm', 'Age'],\n",
    "             title='Top 10 NBA Players by Points per Position',\n",
    "             labels={'Player': 'Player Name', 'PTS': 'Points', 'Pos': 'Position'},\n",
    "             range_x=[0, data['PTS'].max() * 1.1])\n",
    "\n",
    "# Display the interactive plot\n",
    "fig.show()\n"
   ]
  },
  {
   "cell_type": "code",
   "execution_count": 17,
   "id": "b4cbb883",
   "metadata": {},
   "outputs": [
    {
     "data": {
      "image/png": "[encoded data removed]",
      "text/plain": [
       "<Figure size 1000x600 with 1 Axes>"
      ]
     },
     "metadata": {},
     "output_type": "display_data"
    }
   ],
   "source": [
    "# Filter data for players with an average of more than 10 minutes per game\n",
    "data = data[data[\"MP\"] > 10]\n",
    "\n",
    "# Calculate points per minute\n",
    "data[\"PPM\"] = data[\"PTS\"] / data[\"MP\"]\n",
    "\n",
    "# Group ages into bins\n",
    "age_bins = [18, 22, 26, 29, 36]\n",
    "age_labels = [\"18-22\", \"23-26\", \"27-29\", \"30-36\"]\n",
    "data[\"Age_Group\"] = pd.cut(data[\"Age\"], bins=age_bins, labels=age_labels)\n",
    "\n",
    "# Create a box plot to show the distribution of PPM for each age group without outliers\n",
    "plt.figure(figsize=(10, 6))\n",
    "sns.boxplot(x=\"Age_Group\", y=\"PPM\", data=data, showfliers=False)\n",
    "plt.title(\"Points per Minute Distribution by Age Group (Players with Average Minutes > 10)\")\n",
    "plt.xlabel(\"Age Group\")\n",
    "plt.ylabel(\"Points per Minute\")\n",
    "plt.show()\n"
   ]
  },
  {
   "cell_type": "code",
   "execution_count": null,
   "id": "f93b1d2e",
   "metadata": {},
   "outputs": [],
   "source": []
  }
 ],
 "metadata": {
  "kernelspec": {
   "display_name": "Python 3 (ipykernel)",
   "language": "python",
   "name": "python3"
  },
  "language_info": {
   "codemirror_mode": {
    "name": "ipython",
    "version": 3
   },
   "file_extension": ".py",
   "mimetype": "text/x-python",
   "name": "python",
   "nbconvert_exporter": "python",
   "pygments_lexer": "ipython3",
   "version": "3.9.13"
  }
 },
 "nbformat": 4,
 "nbformat_minor": 5
}
